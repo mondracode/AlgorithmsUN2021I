{
  "nbformat": 4,
  "nbformat_minor": 0,
  "metadata": {
    "colab": {
      "name": "smondragonAlgorithmicToolboxCertificate.ipynb",
      "provenance": [],
      "collapsed_sections": []
    },
    "kernelspec": {
      "name": "python3",
      "display_name": "Python 3"
    },
    "language_info": {
      "name": "python"
    }
  },
  "cells": [
    {
      "cell_type": "markdown",
      "metadata": {
        "id": "GpRgKOBICaiv"
      },
      "source": [
        "## Certificado Algorithmic Toolbox\n",
        "### Santiago Mondragón Gómez\n",
        "\n",
        "Perfil de LinkedIn: https://www.linkedin.com/in/smondragong/\n",
        "\n",
        "![](https://imgur.com/y3vBzg1.png)"
      ]
    }
  ]
}