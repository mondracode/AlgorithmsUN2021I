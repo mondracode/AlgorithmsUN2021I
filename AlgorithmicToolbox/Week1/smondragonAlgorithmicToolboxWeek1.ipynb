{
  "cells": [
    {
      "cell_type": "markdown",
      "source": "# I Solving the Sum of Two Digits Programming Challenge",
      "metadata": {
        "id": "N1ok_-56OjB1",
        "cell_id": "00000-e10639d5-15bd-441a-b877-336efaddfa58",
        "deepnote_cell_type": "markdown"
      }
    },
    {
      "cell_type": "markdown",
      "source": "## C++",
      "metadata": {
        "id": "MMY7kmDSO0KM",
        "cell_id": "00001-0fd6d578-921a-4179-8fa0-a4ad655a5545",
        "deepnote_cell_type": "markdown"
      }
    },
    {
      "cell_type": "code",
      "metadata": {
        "colab": {
          "base_uri": "https://localhost:8080/"
        },
        "id": "2pGGf9BkPNIk",
        "outputId": "acbc9873-7102-4335-ca2a-6a77020ef950",
        "cell_id": "00002-44012b02-f7d2-419c-a054-799814420b8f",
        "deepnote_cell_type": "code"
      },
      "source": "%%writefile APlusB.cpp\n#include <iostream>\n\nint sum_of_two_digits(int first_digit, int second_digit) {\n    return first_digit + second_digit;\n}\n\nint main() {\n    int a = 0;\n    int b = 0;\n    std::cin >> a;\n    std::cin >> b;\n    std::cout << sum_of_two_digits(a, b);\n    return 0;\n}",
      "outputs": [
        {
          "output_type": "stream",
          "text": "Writing APlusB.cpp\n",
          "name": "stdout"
        }
      ],
      "execution_count": null
    },
    {
      "cell_type": "code",
      "metadata": {
        "colab": {
          "base_uri": "https://localhost:8080/"
        },
        "id": "0G3ZKOYAPXSU",
        "outputId": "f304f39e-99bb-472d-b836-43fe10118492",
        "cell_id": "00003-1511dda2-0749-4078-8159-6be2079d92df",
        "deepnote_cell_type": "code"
      },
      "source": "!g++ APlusB.cpp -o APlusB\n!./APlusB",
      "outputs": [
        {
          "output_type": "stream",
          "text": "4 11\n15",
          "name": "stdout"
        }
      ],
      "execution_count": null
    },
    {
      "cell_type": "markdown",
      "source": "### Test input output files",
      "metadata": {
        "id": "iNkG2HqfTl9c",
        "cell_id": "00004-e7895a22-f913-43fc-a7e7-8657dd2eef8a",
        "deepnote_cell_type": "markdown"
      }
    },
    {
      "cell_type": "code",
      "metadata": {
        "colab": {
          "base_uri": "https://localhost:8080/"
        },
        "id": "aTzU2efzMxly",
        "outputId": "55c6bc45-95db-49ce-d5cc-6163e37c2c8d",
        "cell_id": "00005-97161f7b-6115-48b6-98d1-4b385de0d8b4",
        "deepnote_to_be_reexecuted": false,
        "source_hash": "fadeebb9",
        "execution_start": 1618089308216,
        "execution_millis": 20,
        "deepnote_cell_type": "code"
      },
      "source": "%%writefile input1.txt\n4 8",
      "outputs": [
        {
          "name": "stdout",
          "text": "Writing input1.txt\n",
          "output_type": "stream"
        }
      ],
      "execution_count": null
    },
    {
      "cell_type": "markdown",
      "source": "",
      "metadata": {
        "id": "pdkfsvs-T0Wr",
        "cell_id": "00006-27ecc181-50a7-4f19-b721-081058c6da4c",
        "deepnote_cell_type": "markdown"
      }
    },
    {
      "cell_type": "code",
      "metadata": {
        "colab": {
          "base_uri": "https://localhost:8080/"
        },
        "id": "zBJ0Gc0NQRet",
        "outputId": "f6ac5eff-d4bf-4081-adab-aa9add753e31",
        "cell_id": "00007-1590c569-1ed7-44e2-be45-7d751ee730c9",
        "deepnote_cell_type": "code"
      },
      "source": "%%writefile output1.txt\n12",
      "outputs": [
        {
          "output_type": "stream",
          "text": "Writing output1.txt\n",
          "name": "stdout"
        }
      ],
      "execution_count": null
    },
    {
      "cell_type": "code",
      "metadata": {
        "colab": {
          "base_uri": "https://localhost:8080/"
        },
        "id": "IjEcIx63PJAN",
        "outputId": "ec119707-a866-4c59-e0be-1f71c7fc7c18",
        "cell_id": "00008-f24280de-85e4-465d-a41a-e162e73d1141",
        "deepnote_to_be_reexecuted": false,
        "source_hash": "5510be02",
        "execution_start": 1618089314064,
        "execution_millis": 15,
        "deepnote_cell_type": "code"
      },
      "source": "%%writefile input2.txt\n-5 9",
      "outputs": [
        {
          "name": "stdout",
          "text": "Writing input2.txt\n",
          "output_type": "stream"
        }
      ],
      "execution_count": null
    },
    {
      "cell_type": "code",
      "metadata": {
        "colab": {
          "base_uri": "https://localhost:8080/"
        },
        "id": "Up9gOrxURTmd",
        "outputId": "34ac5bec-63e6-4523-ac5b-8e2054c9b49a",
        "cell_id": "00009-fbd3ff70-ecc4-455c-bcd0-4b5531540928",
        "deepnote_cell_type": "code"
      },
      "source": "%%writefile output2.txt\n4",
      "outputs": [
        {
          "output_type": "stream",
          "text": "Writing output2.txt\n",
          "name": "stdout"
        }
      ],
      "execution_count": null
    },
    {
      "cell_type": "code",
      "metadata": {
        "colab": {
          "base_uri": "https://localhost:8080/"
        },
        "id": "PST6G-s-Pwgc",
        "outputId": "3da1838c-4141-494e-bcfc-5dfdcec35e05",
        "cell_id": "00010-1b3e41e1-8fee-4140-bc8f-096e87afaf09",
        "deepnote_cell_type": "code"
      },
      "source": "!./APlusB < input1.txt",
      "outputs": [
        {
          "output_type": "stream",
          "text": "12",
          "name": "stdout"
        }
      ],
      "execution_count": null
    },
    {
      "cell_type": "code",
      "metadata": {
        "colab": {
          "base_uri": "https://localhost:8080/"
        },
        "id": "cKxZOjSlRfIN",
        "outputId": "fe19808b-94a6-419c-d0fb-05e38aaa2a72",
        "cell_id": "00011-d448a7d8-d8f1-4607-a946-043d4d8eeb30",
        "deepnote_cell_type": "code"
      },
      "source": "!./APlusB < input2.txt",
      "outputs": [
        {
          "output_type": "stream",
          "text": "4",
          "name": "stdout"
        }
      ],
      "execution_count": null
    },
    {
      "cell_type": "markdown",
      "source": "### Comparing files with grep\n\nhttps://askubuntu.com/questions/546796/comparing-two-text-files",
      "metadata": {
        "id": "Qw2TQWCCUwqk",
        "cell_id": "00012-128f606d-91d0-4f69-8c64-0760bfd33e7c",
        "deepnote_cell_type": "markdown"
      }
    },
    {
      "cell_type": "code",
      "metadata": {
        "id": "WVIaAmMKU4QM",
        "cell_id": "00013-3dcc7cc0-7e4c-4fee-b5e1-579f3aa4c3d6",
        "deepnote_cell_type": "code"
      },
      "source": "!grep -xvFf output1.txt output1.txt ",
      "outputs": [],
      "execution_count": null
    },
    {
      "cell_type": "code",
      "metadata": {
        "colab": {
          "base_uri": "https://localhost:8080/"
        },
        "id": "MQU8gPPjQuYO",
        "outputId": "8b0c1f14-1e1a-4f2f-89e5-2515ce1960f8",
        "cell_id": "00014-230f4847-9239-4998-99e8-8e2923c52911",
        "deepnote_cell_type": "code"
      },
      "source": "!grep -xvFf output1.txt output2.txt ",
      "outputs": [
        {
          "output_type": "stream",
          "text": "4\n",
          "name": "stdout"
        }
      ],
      "execution_count": null
    },
    {
      "cell_type": "code",
      "metadata": {
        "colab": {
          "base_uri": "https://localhost:8080/"
        },
        "id": "jYL9OuYBTD_l",
        "outputId": "f5f3a120-c5b2-4668-eb1d-472c8d07124f",
        "cell_id": "00015-502fc0d5-b093-4720-8f8e-1bf42b531adc",
        "deepnote_cell_type": "code"
      },
      "source": "!grep -xvFf output2.txt output1.txt ",
      "outputs": [
        {
          "output_type": "stream",
          "text": "12\n",
          "name": "stdout"
        }
      ],
      "execution_count": null
    },
    {
      "cell_type": "code",
      "metadata": {
        "id": "Jlja0Xm4TX9M",
        "cell_id": "00016-d2c35694-f4f6-4fb0-adaf-eee7b790354d",
        "deepnote_cell_type": "code"
      },
      "source": "!./APlusB < input1.txt> ctest1.txt\n!grep -xvFf output1.txt ctest1.txt",
      "outputs": [],
      "execution_count": null
    },
    {
      "cell_type": "code",
      "metadata": {
        "id": "g9OIUZA_QLCQ",
        "cell_id": "00017-4b3b5d9f-bdca-4d6e-9317-ace70eeef874",
        "deepnote_cell_type": "code"
      },
      "source": "!./APlusB < input2.txt > ctest2.txt\n!grep -xvFf output2.txt ctest2.txt",
      "outputs": [],
      "execution_count": null
    },
    {
      "cell_type": "markdown",
      "source": "## Python",
      "metadata": {
        "id": "3BgOaDjUVJk6",
        "cell_id": "00018-e82f9b57-589c-4b68-a41b-7829ef03801f",
        "deepnote_cell_type": "markdown"
      }
    },
    {
      "cell_type": "code",
      "metadata": {
        "colab": {
          "base_uri": "https://localhost:8080/"
        },
        "id": "DBvl-T0CTN_8",
        "outputId": "724d9b1a-ffc6-4651-8dcc-83ed08e12106",
        "cell_id": "00019-e03cf19d-da21-4ae2-8e1e-28b67b6925c5",
        "deepnote_cell_type": "code"
      },
      "source": "%%writefile sum.py\n# python3\n\ndef sum_of_two_digits(first_digit, second_digit):\n    return first_digit + second_digit\n\nif __name__ == '__main__':\n    a, b = map(int, input().split())\n    print(sum_of_two_digits(a, b))",
      "outputs": [
        {
          "output_type": "stream",
          "text": "Writing sum.py\n",
          "name": "stdout"
        }
      ],
      "execution_count": null
    },
    {
      "cell_type": "code",
      "metadata": {
        "colab": {
          "base_uri": "https://localhost:8080/"
        },
        "id": "QKoKM11_WGyF",
        "outputId": "46996346-ee73-4a48-d618-935fded7bcf5",
        "cell_id": "00020-0dd55b1e-2038-433e-802c-27c469ea76a0",
        "deepnote_cell_type": "code"
      },
      "source": "!python sum.py",
      "outputs": [
        {
          "output_type": "stream",
          "text": "30 90\n120\n",
          "name": "stdout"
        }
      ],
      "execution_count": null
    },
    {
      "cell_type": "code",
      "metadata": {
        "id": "cocFbPRTWrqt",
        "cell_id": "00021-05055bb3-55d3-45b9-95ca-4a82e94fe0f9",
        "deepnote_cell_type": "code"
      },
      "source": "!python sum.py  < input1.txt> ptest1.txt\n!grep -xvFf output1.txt ptest1.txt",
      "outputs": [],
      "execution_count": null
    },
    {
      "cell_type": "code",
      "metadata": {
        "id": "MorKTa-XXASN",
        "cell_id": "00022-5dfab9e5-c074-4dd8-adfa-7c5cae62f93f",
        "deepnote_cell_type": "code"
      },
      "source": "!python sum.py  < input2.txt> ptest2.txt\n!grep -xvFf output2.txt ptest2.txt",
      "outputs": [],
      "execution_count": null
    },
    {
      "cell_type": "markdown",
      "source": "# II Solving The Maximum Pairwise Product Programming Challenge in C++",
      "metadata": {
        "id": "uvP-mOubW_5F",
        "cell_id": "00023-435c96c4-5cad-4a51-8b09-5f09afdd3452",
        "deepnote_cell_type": "markdown"
      }
    },
    {
      "cell_type": "markdown",
      "source": "## C++",
      "metadata": {
        "id": "C12yoFR6Xonl",
        "cell_id": "00024-3370a2f8-3d87-44be-8fce-aa7d39dbd88c",
        "deepnote_cell_type": "markdown"
      }
    },
    {
      "cell_type": "code",
      "metadata": {
        "colab": {
          "base_uri": "https://localhost:8080/"
        },
        "id": "YL4qJX3tXxdd",
        "outputId": "b075abf6-70ab-49cb-9349-f57b78cf9da2",
        "cell_id": "00025-90f40830-5033-4125-9967-51db631b3331",
        "deepnote_cell_type": "code"
      },
      "source": "%%writefile max_pairwise_product.cpp\n#include <iostream>\n#include <vector>\n#include <algorithm>\n\nint MaxPairwiseProduct(const std::vector<int>& numbers) {\n    int max_product = 0;\n    int n = numbers.size();\n\n    for (int first = 0; first < n; ++first) {\n        for (int second = first + 1; second < n; ++second) {\n            max_product = std::max(max_product,\n                numbers[first] * numbers[second]);\n        }\n    }\n\n    return max_product;\n}\n\nint main() {\n    int n;\n    std::cin >> n;\n    std::vector<int> numbers(n);\n    for (int i = 0; i < n; ++i) {\n        std::cin >> numbers[i];\n    }\n\n    std::cout << MaxPairwiseProduct(numbers) << \"\\n\";\n    return 0;\n}\n",
      "outputs": [
        {
          "output_type": "stream",
          "text": "Writing max_pairwise_product.cpp\n",
          "name": "stdout"
        }
      ],
      "execution_count": null
    },
    {
      "cell_type": "code",
      "metadata": {
        "colab": {
          "base_uri": "https://localhost:8080/"
        },
        "id": "KGxaEjvWX__O",
        "outputId": "2d1faeb6-5659-43e4-9004-5013e0bb7979",
        "cell_id": "00026-e838927b-d9ee-42df-ac67-3663f79fd5ea",
        "deepnote_cell_type": "code"
      },
      "source": "!g++ max_pairwise_product.cpp -o max_pairwise_product\n!./max_pairwise_product",
      "outputs": [
        {
          "output_type": "stream",
          "text": "6\n23 1 89 56 34 5\n4984\n",
          "name": "stdout"
        }
      ],
      "execution_count": null
    },
    {
      "cell_type": "markdown",
      "source": "### Test 1: Small numbers",
      "metadata": {
        "id": "e7KhxHGNS3i0",
        "cell_id": "00027-82fc4986-6b9e-4368-9286-a8ae6ce3cc09",
        "deepnote_cell_type": "markdown"
      }
    },
    {
      "cell_type": "code",
      "metadata": {
        "colab": {
          "base_uri": "https://localhost:8080/"
        },
        "id": "e1mmTzBgShT-",
        "outputId": "eaa2f4b9-2b97-4d0b-a821-adcc7cfaa27d",
        "cell_id": "00028-c32e8f0f-2af2-4046-b8a1-61e018289dda",
        "deepnote_to_be_reexecuted": false,
        "source_hash": "c03030ca",
        "execution_start": 1618089329722,
        "execution_millis": 10,
        "deepnote_cell_type": "code"
      },
      "source": "%%writefile input1.txt\n10\n1 2 3 4 5 6 7 8 9 10",
      "outputs": [
        {
          "name": "stdout",
          "text": "Overwriting input1.txt\n",
          "output_type": "stream"
        }
      ],
      "execution_count": null
    },
    {
      "cell_type": "code",
      "metadata": {
        "colab": {
          "base_uri": "https://localhost:8080/"
        },
        "id": "vy_uI0x7TCId",
        "outputId": "f25f411d-dfc8-48dd-95db-ea48a04eda9a",
        "cell_id": "00029-56ccf317-f997-4932-897c-bdd61c530695",
        "deepnote_cell_type": "code"
      },
      "source": "!./max_pairwise_product < input1.txt",
      "outputs": [
        {
          "output_type": "stream",
          "text": "90\n",
          "name": "stdout"
        }
      ],
      "execution_count": null
    },
    {
      "cell_type": "markdown",
      "source": "### Test 2: largest input numbers 200000 200000 in the input",
      "metadata": {
        "id": "IeZ3kTjpYmR9",
        "cell_id": "00030-def37345-7c86-4600-bcb1-4f3664ccb445",
        "deepnote_cell_type": "markdown"
      }
    },
    {
      "cell_type": "code",
      "metadata": {
        "colab": {
          "base_uri": "https://localhost:8080/"
        },
        "id": "LQNlZqaqYt7U",
        "outputId": "2f0fc7a9-d4a7-4ec0-f28b-a7ffebca5a8e",
        "cell_id": "00031-67440a16-bbcd-42b1-8122-c920d15ba457",
        "deepnote_to_be_reexecuted": false,
        "source_hash": "bf5fc9b6",
        "execution_start": 1618089333724,
        "execution_millis": 15,
        "deepnote_cell_type": "code"
      },
      "source": "%%writefile input2.txt\n6\n1 3 200000 9 200000 23",
      "outputs": [
        {
          "name": "stdout",
          "text": "Overwriting input2.txt\n",
          "output_type": "stream"
        }
      ],
      "execution_count": null
    },
    {
      "cell_type": "code",
      "metadata": {
        "colab": {
          "base_uri": "https://localhost:8080/"
        },
        "id": "2Wad2VZUZDxR",
        "outputId": "49b38024-2488-4935-a357-d8a4bda6f44b",
        "cell_id": "00032-b666da83-ea27-415a-ba2d-fc21e0a49f20",
        "deepnote_cell_type": "code"
      },
      "source": "!./max_pairwise_product < input2.txt",
      "outputs": [
        {
          "output_type": "stream",
          "text": "1345294336\n",
          "name": "stdout"
        }
      ],
      "execution_count": null
    },
    {
      "cell_type": "markdown",
      "source": "Changing the variables to long long",
      "metadata": {
        "id": "H2SC0Qt5HCzz",
        "cell_id": "00033-3da905b4-e07d-43d3-a9be-abfbbfb2917a",
        "deepnote_cell_type": "markdown"
      }
    },
    {
      "cell_type": "code",
      "metadata": {
        "colab": {
          "base_uri": "https://localhost:8080/"
        },
        "id": "MPcmsxiQZSfE",
        "outputId": "9dab6f3f-8e75-46c4-e03b-705f5450adb8",
        "cell_id": "00034-886bf352-808c-4851-a65f-199386f039df",
        "deepnote_cell_type": "code"
      },
      "source": "%%writefile max_pairwise_product_long.cpp\n#include <iostream>\n#include <vector>\n#include <algorithm>\n\nlong long MaxPairwiseProduct(const std::vector<int>& numbers) {\n    long long max_product = 0LL;\n\t  long long aux_product = 0LL;\n    int n = numbers.size();\n\n    for (int first = 0; first < n; ++first) {\n        for (int second = first + 1; second < n; ++second) {\n\t\t\t       aux_product =  (long long) numbers[first] * numbers[second];\n            if ( max_product < aux_product)  {\n\t\t\t\t        max_product = aux_product;\n             }\n        }\n    }\n\n    return max_product;\n}\n\nint main() {\n    int n;\n    std::cin >> n;\n    std::vector<int> numbers(n);\n    for (int i = 0; i < n; ++i) {\n        std::cin >> numbers[i];\n    }\n\n    std::cout << MaxPairwiseProduct(numbers) << \"\\n\";\n    return 0;\n}\n",
      "outputs": [
        {
          "output_type": "stream",
          "text": "Writing max_pairwise_product_long.cpp\n",
          "name": "stdout"
        }
      ],
      "execution_count": null
    },
    {
      "cell_type": "code",
      "metadata": {
        "colab": {
          "base_uri": "https://localhost:8080/"
        },
        "id": "I5pCeOG1Zm7s",
        "outputId": "86a11472-b3df-41d5-a77a-0117e3b53d2d",
        "cell_id": "00035-0fb2db73-ec6d-4f41-8e00-e17b40e74c16",
        "deepnote_cell_type": "code"
      },
      "source": "!g++ max_pairwise_product_long.cpp -o max_pairwise_product_long\n!./max_pairwise_product_long < input1.txt\n!./max_pairwise_product_long < input2.txt",
      "outputs": [
        {
          "output_type": "stream",
          "text": "90\n40000000000\n",
          "name": "stdout"
        }
      ],
      "execution_count": null
    },
    {
      "cell_type": "markdown",
      "source": "### Test 3  stress tests 20  times  random n in [2, 20] ",
      "metadata": {
        "id": "XPVHkHxH6_7s",
        "cell_id": "00036-e99f05d1-5850-4e8d-8948-e35da44b63d6",
        "deepnote_cell_type": "markdown"
      }
    },
    {
      "cell_type": "code",
      "metadata": {
        "id": "PwqpBmYr69fu",
        "cell_id": "00037-551f5c8e-1d54-4917-b816-2ae528da9745",
        "deepnote_to_be_reexecuted": false,
        "source_hash": "7a256c1a",
        "execution_start": 1618092616361,
        "execution_millis": 13,
        "deepnote_cell_type": "code"
      },
      "source": "%%writefile stress_test.cpp\n#include <bits/stdc++.h>\n#include <cstdlib>\n\nusing namespace std;\n\nint MaxPairwiseProduct(const std::vector<int>& numbers) {\n    int max_product = 0;\n    int n = numbers.size();\n\n    for (int first = 0; first < n; ++first) {\n        for (int second = first + 1; second < n; ++second) {\n            max_product = std::max(max_product,\n                numbers[first] * numbers[second]);\n        }\n    }\n    return max_product;\n}\n\nlong long MaxPairwiseProductLL(const std::vector<int>& numbers) {\n    long long max_product = 0LL;\n\t  long long aux_product = 0LL;\n    int n = numbers.size();\n\n    for (int first = 0; first < n; ++first) {\n        for (int second = first + 1; second < n; ++second) {\n\t\t\t       aux_product =  (long long) numbers[first] * numbers[second];\n            if ( max_product < aux_product)  {\n\t\t\t\t        max_product = aux_product;\n             }\n        }\n    }\n\n    return max_product;\n}\n\nvoid test(int t) {\n    for (int i = 0; i < t; i++) {\n        int n = rand() % 19 + 2;\n        vector<int> numbers(n);\n        cout << \"Test \";\n        cout << \"n = \" << n << '\\n';\n        for (int i = 0; i < n; i++) {\n            int number = rand() % 200000 + 1;\n            numbers[i] = number;\n        }\n        long long sol1 = MaxPairwiseProductLL(numbers);\n        long long sol2 = MaxPairwiseProduct(numbers);\n        if (sol1 != sol2) {\n            cout << \"Wrong solution\\n\";\n            cout << \"Expected solution: \" << sol1 << '\\n';\n            cout << \"Found solution: \" << sol2 << \"\\n\\n\";\n        } else {\n            cout << \"Right solution\\n\\n\";\n        }\n        \n    }\n}\n\nint main() {\n    test(20);\n    return 0;\n}",
      "execution_count": 9,
      "outputs": [
        {
          "name": "stdout",
          "text": "Overwriting stress_test.cpp\n",
          "output_type": "stream"
        }
      ]
    },
    {
      "cell_type": "code",
      "source": "!g++ stress_test.cpp -o stress_test\n!./stress_test",
      "metadata": {
        "tags": [],
        "cell_id": "00038-5e013878-e24d-4591-a06a-54130fe3ab40",
        "deepnote_to_be_reexecuted": false,
        "source_hash": "8820b9f3",
        "execution_start": 1618092621637,
        "execution_millis": 2050,
        "deepnote_cell_type": "code"
      },
      "outputs": [
        {
          "name": "stdout",
          "text": "Test n = 4\r\nWrong solution\r\nExpected solution: 19344313278\r\nFound solution: 1160996008\r\n\r\nTest n = 10\r\nWrong solution\r\nExpected solution: 27073724663\r\nFound solution: 2088920396\r\n\r\nTest n = 9\r\nWrong solution\r\nExpected solution: 35835949563\r\nFound solution: 1919983863\r\n\r\nTest n = 8\r\nWrong solution\r\nExpected solution: 31297948604\r\nFound solution: 1822470173\r\n\r\nTest n = 7\r\nWrong solution\r\nExpected solution: 31258620020\r\nFound solution: 2089365940\r\n\r\nTest n = 3\r\nWrong solution\r\nExpected solution: 17263759062\r\nFound solution: 1358346330\r\n\r\nTest n = 11\r\nWrong solution\r\nExpected solution: 39498796036\r\nFound solution: 2122301002\r\n\r\nTest n = 18\r\nWrong solution\r\nExpected solution: 29296412040\r\nFound solution: 2147249950\r\n\r\nTest n = 2\r\nWrong solution\r\nExpected solution: 19461431088\r\nFound solution: 0\r\n\r\nTest n = 15\r\nWrong solution\r\nExpected solution: 38704029805\r\nFound solution: 2001929129\r\n\r\nTest n = 7\r\nWrong solution\r\nExpected solution: 23751328005\r\nFound solution: 1560284412\r\n\r\nTest n = 15\r\nWrong solution\r\nExpected solution: 34195988036\r\nFound solution: 2068105743\r\n\r\nTest n = 13\r\nWrong solution\r\nExpected solution: 31924975786\r\nFound solution: 2105962912\r\n\r\nTest n = 6\r\nWrong solution\r\nExpected solution: 21881892448\r\nFound solution: 1583162875\r\n\r\nTest n = 17\r\nWrong solution\r\nExpected solution: 26091499621\r\nFound solution: 2142478836\r\n\r\nTest n = 19\r\nWrong solution\r\nExpected solution: 37987206639\r\nFound solution: 2137405828\r\n\r\nTest n = 11\r\nWrong solution\r\nExpected solution: 34098613568\r\nFound solution: 2109851500\r\n\r\nTest n = 3\r\nWrong solution\r\nExpected solution: 16411193626\r\nFound solution: 1920255055\r\n\r\nTest n = 10\r\nWrong solution\r\nExpected solution: 22352708476\r\nFound solution: 2096367800\r\n\r\nTest n = 7\r\nWrong solution\r\nExpected solution: 33536715660\r\nFound solution: 1674082126\r\n\r\n",
          "output_type": "stream"
        }
      ],
      "execution_count": 10
    },
    {
      "cell_type": "markdown",
      "source": "### Test 4  time test  measure the execution time running with the the largest worst case file (200000 increasing numbers, 200000 and 200000 the end) ",
      "metadata": {
        "id": "9z9yr5QkeyJF",
        "cell_id": "00038-8fc7ca73-8a9b-45ef-9fc3-2fe99c8d92b6",
        "deepnote_cell_type": "markdown"
      }
    },
    {
      "cell_type": "code",
      "metadata": {
        "id": "oLiMjbAIfPlX",
        "colab": {
          "base_uri": "https://localhost:8080/"
        },
        "outputId": "00ea6579-38c2-42cd-8cd1-e7d4f6a10a6d",
        "cell_id": "00039-bf338762-6233-40ca-8899-98d63b9cfb04",
        "deepnote_to_be_reexecuted": false,
        "source_hash": "7716ad3f",
        "execution_start": 1618089354506,
        "execution_millis": 9,
        "deepnote_cell_type": "code"
      },
      "source": "%%writefile Test2Write.cpp\n\n#include <iostream>\n#include <fstream>\n#include <cstdlib>\n\nusing namespace std;\n\nint main() {\n  // Create and open a text file\n  ofstream MyFile(\"input3.txt\");\n\n MyFile << 200000 <<\"\\n\";  // n \n for (int i=1; i < 200001; i++){\n     MyFile << i <<\" \";\n }\n  \n  // Close the file\n  MyFile.close();\n}",
      "outputs": [
        {
          "name": "stdout",
          "text": "Writing Test2Write.cpp\n",
          "output_type": "stream"
        }
      ],
      "execution_count": null
    },
    {
      "cell_type": "code",
      "metadata": {
        "id": "EH25TkOkZfD9",
        "cell_id": "00040-8cf32acc-62ea-462d-93f1-cdad316e83cc",
        "deepnote_to_be_reexecuted": false,
        "source_hash": "60da4f1c",
        "execution_start": 1618090061125,
        "execution_millis": 1460,
        "deepnote_cell_type": "code"
      },
      "source": "!g++ Test2Write.cpp -o Test2Write\n!./Test2Write",
      "outputs": [],
      "execution_count": null
    },
    {
      "cell_type": "markdown",
      "source": "Measure time\n\nhttps://askubuntu.com/questions/53444/how-can-i-measure-the-execution-time-of-a-terminal-process",
      "metadata": {
        "id": "JB6f03qO-lj9",
        "cell_id": "00041-374cc731-7a23-4e22-b72f-dee78360263c",
        "deepnote_cell_type": "markdown"
      }
    },
    {
      "cell_type": "code",
      "metadata": {
        "colab": {
          "base_uri": "https://localhost:8080/"
        },
        "id": "6p2QLEr576zk",
        "outputId": "a7994512-0573-4d59-eb7a-d85a9ac65192",
        "cell_id": "00042-ac709680-c606-4571-af8b-49565e02727b",
        "deepnote_cell_type": "code"
      },
      "source": "!g++ max_pairwise_product_long.cpp -o max_pairwise_product_long\n!time ./max_pairwise_product_long < input3.txt",
      "outputs": [
        {
          "output_type": "stream",
          "text": "39999800000\n\nreal\t2m8.058s\nuser\t2m7.863s\nsys\t0m0.021s\n",
          "name": "stdout"
        }
      ],
      "execution_count": null
    },
    {
      "cell_type": "markdown",
      "source": "##### Calculate  the number of instructions executed by the algorithm as a function of n, add in each line a comment with the number of instructions that are executed in that line \n\n```cpp\n int main() {                         //N inst exec by line executed  \n   \n    int n;                            //1                      \n    std::cin >> n;                    //1\n                                              \n    std::vector<int> numbers(n);      //n    init vector\n    .\n    .\n }\n\n```",
      "metadata": {
        "id": "AmZeB2wYjxy5",
        "cell_id": "00043-ed087884-356f-4cd5-8f3c-109ae41ce0dc",
        "deepnote_cell_type": "markdown"
      }
    },
    {
      "cell_type": "code",
      "metadata": {
        "colab": {
          "base_uri": "https://localhost:8080/"
        },
        "id": "djGX3FL13g9b",
        "outputId": "2d9bb41e-24a7-4127-edc4-e412c1256116",
        "cell_id": "00044-52196744-7c1b-4e6d-9f55-2ba56f5158d8",
        "deepnote_cell_type": "code"
      },
      "source": "%%writefile test_init_vectors.cpp\n#include <iostream>\n#include <vector>\n#include <algorithm>\nint main() {                                                               \n    int n = 10;                                                                                                                            //1\n    std::vector<int> numbers(n);                                            \n    for (int i = 0; i < n; ++i) {                                           \n        std::cout << numbers[i];                                             \n    }\n\n    std::cout << \"\\n\";                       \n    return 0;                                                              \n}  ",
      "outputs": [
        {
          "output_type": "stream",
          "text": "Writing test_init_vectors.cpp\n",
          "name": "stdout"
        }
      ],
      "execution_count": null
    },
    {
      "cell_type": "code",
      "metadata": {
        "colab": {
          "base_uri": "https://localhost:8080/"
        },
        "id": "44gZcuE237-1",
        "outputId": "ece1d47e-732d-4eac-de5f-59af068af4d3",
        "cell_id": "00045-ddb6fe57-0f8b-45fc-a4e4-d4617ffc597c",
        "deepnote_cell_type": "code"
      },
      "source": "!g++ test_init_vectors.cpp -o test_init_vectors\n!./test_init_vectors",
      "outputs": [
        {
          "output_type": "stream",
          "text": "0000000000\n",
          "name": "stdout"
        }
      ],
      "execution_count": null
    },
    {
      "cell_type": "code",
      "metadata": {
        "colab": {
          "base_uri": "https://localhost:8080/"
        },
        "id": "uG6Mv-Pwlkii",
        "outputId": "dc325a39-e50c-47da-ccc0-b6e18adabd7b",
        "cell_id": "00046-4be6a312-0b0f-4d0b-a920-9423a1fe0d22",
        "deepnote_cell_type": "code"
      },
      "source": "%%writefile max_pairwise_product_long.cpp\n#include <iostream>\n#include <vector>\n#include <algorithm>\n\nlong long MaxPairwiseProduct(const std::vector<int>& numbers) {              //N inst exec by line executed \n    long long max_product = 0LL;                                             //1                                          \n\t  long long aux_product = 0LL;                                             //1 \n    int n = numbers.size();                                                  //1 \n                                                                             \n    for (int first = 0; first < n; ++first) {                                //1+2n  \n        for (int second = first + 1; second < n; ++second) {                 //n + (n-1)n \n\t\t\t       aux_product =  (long long) numbers[first] * numbers[second];    //(n-1)n/2 \n            if (max_product < aux_product)  {                                //(n-1)n/2 \n\t\t\t\t        max_product = aux_product;                                   //[0, (n-1)n/2] \n             }\n        }\n    }\n                                                                             // -------------- \n    return max_product;                                                      // 4 + 3n + [2(n-1)n, 2.5 (n-1)n] \n}\n\nint main() {                                              //N inst exec by line executed \n    int n;                                                //1  \n    std::cin >> n;                                        //1\n    std::vector<int> numbers(n);                          //n\n    for (int i = 0; i < n; ++i) {                         //1 + 2n\n        std::cin >> numbers[i];                           //n\n    }\n\n    std::cout << MaxPairwiseProduct(numbers) << \"\\n\";     //1 + 1  + 4 + 3n + [2(n-1)n, 2.5 (n-1)n]\n    return 0;                                             // -------------- \n}                                                         // 9 + 7n + [2(n-1)n, 2.5 (n-1)n]\n",
      "outputs": [
        {
          "output_type": "stream",
          "text": "Overwriting max_pairwise_product_long.cpp\n",
          "name": "stdout"
        }
      ],
      "execution_count": null
    },
    {
      "cell_type": "markdown",
      "source": "Count executed intructions in code and verify with inputs 1, 2 and 3",
      "metadata": {
        "id": "0vTsUg8OwcHs",
        "cell_id": "00047-0f411eb7-27c1-4b2f-8e10-84e9ff9da4bd",
        "deepnote_cell_type": "markdown"
      }
    },
    {
      "cell_type": "code",
      "metadata": {
        "colab": {
          "base_uri": "https://localhost:8080/"
        },
        "id": "CuRKkqQc137V",
        "outputId": "3e83563d-2a19-4438-da39-1e4d26cf3239",
        "cell_id": "00048-606b1238-f5fa-4459-8f67-fa8a5ef37c31",
        "deepnote_cell_type": "code"
      },
      "source": "%%writefile max_pairwise_product_long_execints.cpp\n#include <iostream>\n#include <vector>\n#include <algorithm>\n\nlong long MaxPairwiseProduct(const std::vector<int>& numbers, long long &execints) {              //N inst exec by line executed \n    \n    long long m = 0LL;                                                       //1\n    \n    long long max_product = 0LL;                                             //1\n    execints++;\n\n\t  long long aux_product = 0LL;                                             //1\n    execints++;\n\n    int n = numbers.size();                                                  //1 \n    execints++;\n\n    execints++;                                                                         \n    for (int first = 0; first < n; ++first) {                                //1+2n  \n        execints += 2;\n\n        long long m = 0LL;\n\n        execints++;                                    \n        for (int second = first + 1; second < n; ++second) {                 //n+ (n-1)n \n            execints += 2;                                                \n\n\t\t\t      aux_product =  (long long) numbers[first] * numbers[second];    //(n-1)n/2 \n            execints++; \n\n            execints++; \n            if ( max_product < aux_product)  {                               //(n-1)n/2 \n                       \n\t\t\t\t        max_product = aux_product;                                   //[0, (n-1)n/2] \n                execints++; \n                m++;\n             }\n        }\n        if ( (first <= 10) || (n- first <= 10)) std::cout << m << \"\\n\";\n    }\n                                                                            // -------------- \n    return max_product;                                                     // 4 + 3n + [2(n-1)n, 2.5 (n-1)n] \n}\n\nint main() {                                                 //N inst exec by line executed \n    long long execints =0LL;\n\n    int n;                                                   //1\n    execints++;                                                              \n    \n    std::cin >> n;                                           //1\n    execints++;\n\n    std::vector<int> numbers(n);                             //n\n    execints += n;\n    \n    execints++;\n    for (int i = 0; i < n; ++i) {                            //1 + 2n\n        execints += 2;\n\n        std::cin >> numbers[i];\n        execints++;                                          //n\n    }\n    \n    //std::cout << MaxPairwiseProduct(numbers) << \"\\n\";      //1 + 1  + 4 + 3n + [2(n-1)n, 2.5 (n-1)n]\n\n    execints++;\n    int M = MaxPairwiseProduct(numbers,execints);\n\n    execints++;\n    std::cout <<  execints << \"\\n\";                       \n    return 0;                                                // -------------- \n}                                                            // 9 + 7n + [2(n-1)n, 2.5 (n-1)n]",
      "outputs": [
        {
          "output_type": "stream",
          "text": "Writing max_pairwise_product_long_execints.cpp\n",
          "name": "stdout"
        }
      ],
      "execution_count": null
    },
    {
      "cell_type": "code",
      "metadata": {
        "colab": {
          "base_uri": "https://localhost:8080/"
        },
        "id": "HDLEbBTOfsuZ",
        "outputId": "7313a754-fa19-42a3-94aa-a45ac5639557",
        "cell_id": "00049-af524a93-cd89-43c8-b3da-2d14dbb9a166",
        "deepnote_cell_type": "code"
      },
      "source": "!g++ max_pairwise_product_long_execints.cpp -o max_pairwise_product_long_execints\n!./max_pairwise_product_long_execints < input1.txt",
      "outputs": [
        {
          "output_type": "stream",
          "text": "9\n5\n4\n3\n2\n2\n2\n2\n1\n0\n289\n",
          "name": "stdout"
        }
      ],
      "execution_count": null
    },
    {
      "cell_type": "code",
      "metadata": {
        "colab": {
          "base_uri": "https://localhost:8080/"
        },
        "id": "pVBxrGjpf1bh",
        "outputId": "690c57ff-f229-47b5-a5e4-071a5755ec97",
        "cell_id": "00050-e09c8404-1e3f-4b3f-8665-7072069b6d0e",
        "deepnote_cell_type": "code"
      },
      "source": "!g++ max_pairwise_product_long_execints.cpp -o max_pairwise_product_long_execints\n!./max_pairwise_product_long_execints < input2.txt",
      "outputs": [
        {
          "output_type": "stream",
          "text": "2\n1\n2\n0\n0\n0\n116\n",
          "name": "stdout"
        }
      ],
      "execution_count": null
    },
    {
      "cell_type": "code",
      "metadata": {
        "colab": {
          "base_uri": "https://localhost:8080/"
        },
        "id": "xf_-OTRdf9Kj",
        "outputId": "e2f5608c-74af-489a-ad99-80a23a86e11b",
        "cell_id": "00051-4d907b52-1ee7-4162-aaae-72fe8793b369",
        "deepnote_cell_type": "code"
      },
      "source": "!g++ max_pairwise_product_long_execints.cpp -o max_pairwise_product_long_execints\n!./max_pairwise_product_long_execints < input3.txt",
      "outputs": [
        {
          "output_type": "stream",
          "text": "199999\n100000\n66667\n50000\n40000\n33334\n28572\n25000\n22223\n20000\n18182\n2\n2\n2\n2\n2\n2\n2\n2\n1\n0\n80003672077\n",
          "name": "stdout"
        }
      ],
      "execution_count": null
    },
    {
      "cell_type": "code",
      "metadata": {
        "colab": {
          "base_uri": "https://localhost:8080/"
        },
        "id": "Kuvm1C05ly2a",
        "outputId": "af1b8b00-972f-479a-d90f-6972849e2701",
        "cell_id": "00052-3835e90f-ae4b-46e2-b5ea-c6c6dbdf5dca",
        "deepnote_cell_type": "code"
      },
      "source": "!g++ max_pairwise_product_long_execints.cpp -o max_pairwise_product_long_execints\n!./max_pairwise_product_long_execints < input1.txt\n!./max_pairwise_product_long_execints < input2.txt\n!./max_pairwise_product_long_execints < input3.txt",
      "outputs": [
        {
          "output_type": "stream",
          "text": "9\n5\n4\n3\n2\n2\n2\n2\n1\n0\n289\n2\n1\n2\n0\n0\n0\n116\n199999\n100000\n66667\n50000\n40000\n33334\n28572\n25000\n22223\n20000\n18182\n2\n2\n2\n2\n2\n2\n2\n2\n1\n0\n80003672077\n",
          "name": "stdout"
        }
      ],
      "execution_count": null
    },
    {
      "cell_type": "markdown",
      "source": "The number of instructions executed by the algooirithm with a list of size $n$ is  \n\n$$T = 9 + 7n + [2(n-1)n, 2.5 (n-1)n]$$\n\nIt depends on the size of the lists and  the order of the list.\n\nFor the input1.txt \n```\n10\n1 2 3 4 5 6 7 8 9 10\n```\n$$T = 9 + 7(10) + 2(9)(10) +  9 + 5 + 4 + 3 + 2 + 2 + 2 + 2 + 1 + 0  = 289 $$\n\nFor the input2.txt \n```\n6\n1 3 200000 9 200000 23\n```\n$$T = 9 + 7(6) + 2(5)(6)  +  2 + 1 + 2 + 0 + 0 + 0 = 116 $$\n\n\nFor the input3.txt that is the worst case (n=200000 and list in incresing order)\n\n```\n200000\n1 2 3 4 5 6 7 8 9 10 ... 199998 199999 200000\n```\n\n$$\n\\begin{array}{ll}\nT &= 9 + 7(200000) + (2)(199999)(200000)  + (199999 +\n100000 + 66667 +50000 \\cdots 2 + 2 + 1)\\\\\n&= 80003672077  \\\\\n  &< 9 + 7(200000) + (2.5)(199999)(200000) \\\\\n  & = 100000900009\n\\end{array}\n  $$",
      "metadata": {
        "id": "L_uaamxeAHK7",
        "cell_id": "00053-56f700a0-7ff7-4202-a676-7ab3b3fcea8c",
        "deepnote_cell_type": "markdown"
      }
    },
    {
      "cell_type": "markdown",
      "source": "Calculate estimated time by instruction and number of instructions by second",
      "metadata": {
        "id": "NXW7QkoBL6xH",
        "cell_id": "00054-a3d0f262-3de6-402b-a773-1b5f72eae92e",
        "deepnote_cell_type": "markdown"
      }
    },
    {
      "cell_type": "code",
      "metadata": {
        "colab": {
          "base_uri": "https://localhost:8080/"
        },
        "id": "pKqB3i7dIxnc",
        "outputId": "dcd638b3-c43c-45b5-c0f5-1b30e5035b3d",
        "cell_id": "00055-1995bc44-94d9-49ee-ace6-ca9643712f1e",
        "deepnote_cell_type": "code"
      },
      "source": "# Estimated time by instruction\n\n128/80003672077 \n",
      "outputs": [
        {
          "output_type": "execute_result",
          "data": {
            "text/plain": "1.5999265618308827e-09"
          },
          "metadata": {
            "tags": []
          },
          "execution_count": 34
        }
      ],
      "execution_count": null
    },
    {
      "cell_type": "code",
      "metadata": {
        "colab": {
          "base_uri": "https://localhost:8080/"
        },
        "id": "18N1ouqeMhE1",
        "outputId": "956a9ae7-2932-4c75-a8bf-e1c92761b7e6",
        "cell_id": "00056-9d36b47a-bb9b-4e95-acd6-4aec942379ae",
        "deepnote_cell_type": "code"
      },
      "source": "# Estimated number of instructions by second\n\n1/(128/80003672077) ",
      "outputs": [
        {
          "output_type": "execute_result",
          "data": {
            "text/plain": "625028688.1015625"
          },
          "metadata": {
            "tags": []
          },
          "execution_count": 35
        }
      ],
      "execution_count": null
    },
    {
      "cell_type": "markdown",
      "source": "### Efficient solution",
      "metadata": {
        "id": "CQufozXLNJwO",
        "cell_id": "00057-83c805e2-64d3-46c9-8c7a-182f84563f3d",
        "deepnote_cell_type": "markdown"
      }
    },
    {
      "cell_type": "markdown",
      "source": "Add in each line a coment with the number of intstrcution that are executed in that line",
      "metadata": {
        "id": "nLcKBwbU0QsE",
        "cell_id": "00058-1a64ff06-eab0-44c4-9e88-ee55ec068d22",
        "deepnote_cell_type": "markdown"
      }
    },
    {
      "cell_type": "code",
      "metadata": {
        "id": "knls5Fh3NSt_",
        "colab": {
          "base_uri": "https://localhost:8080/"
        },
        "outputId": "d2b4b82c-5972-4137-d856-be809b85966b",
        "cell_id": "00059-1db9e8db-c20e-412e-a01c-e351db9912e3",
        "deepnote_cell_type": "code"
      },
      "source": "%%writefile max_pairwise_product_efficient.cpp\n#include <bits/stdc++.h>\n\nusing namespace std;\n\nlong long MaxPairwiseProductEfficient(const vector<int>& numbers) {\n    \n    long long max_product = 0LL;                                                      //1\n    int n = (int) numbers.size(), index1 = 0, index2 = 0;                             //3\n\n    for (int i = 1; i < n; i++) {                                                     //1+2(n-1)\n        \n        if (numbers[i] > numbers[index1]) {                                           //n-1      \n            index1 = i;                                                               //[0, (n-1)]\n        }\n    }\n                                                  \n    if (index1 == 0) {                                                                //1\n        index2 = 1;                                                                   //1\n    }\n\n    \n    for (int i = 0; i < n; i++) {                                                     //1+2n\n        if (numbers[i] > numbers[index2] && i != index1) {                            //3n                           \n            index2 = i;                                                               //[0, (n-2)]\n        }\n    }\n     \n    max_product = (long long) numbers[index1] * numbers[index2];                      //1\n    return max_product;                                                               //6 +8n+[0, (n-1)]+[0, (n-2)]\n}\n\nint main() {\n   \n    int n;                                                                            //1 \n    cin >> n;                                                                         //1\n    vector<int> numbers(n);                                                           //n\n\n    for (int i = 0; i < n; i++) {                                                     //1 +2n\n        cin >> numbers[i];                                                            //n\n    }\n\n    cout << MaxPairwiseProductEfficient(numbers) << \"\\n\";                             //1\n    return 0;                                                                         //9 +12n+[0, (n-1)]+[0, (n-2)]\n}",
      "outputs": [
        {
          "output_type": "stream",
          "text": "Writing max_pairwise_product3.cpp\n",
          "name": "stdout"
        }
      ],
      "execution_count": null
    },
    {
      "cell_type": "markdown",
      "source": "Test with inputs 1 and 2\n\n",
      "metadata": {
        "id": "-JCijbWxNSii",
        "cell_id": "00060-2d343677-3036-4b96-99a6-f597083a80e7",
        "deepnote_cell_type": "markdown"
      }
    },
    {
      "cell_type": "code",
      "metadata": {
        "colab": {
          "base_uri": "https://localhost:8080/"
        },
        "id": "ktfM5m1qWF4Z",
        "outputId": "b2f08440-9f5f-4d81-aecf-f363dff92f17",
        "cell_id": "00061-3f6ead3c-7634-4994-9482-a3b1b4e5cb03",
        "deepnote_cell_type": "code"
      },
      "source": "# Test imput 1\n!g++ max_pairwise_product_efficient.cpp -o max_pairwise_product_efficient\n!time ./max_pairwise_product_efficient < input1.txt",
      "outputs": [
        {
          "output_type": "stream",
          "text": "90\n\nreal\t0m0.003s\nuser\t0m0.001s\nsys\t0m0.002s\n",
          "name": "stdout"
        }
      ],
      "execution_count": null
    },
    {
      "cell_type": "code",
      "metadata": {
        "id": "TrTGAfqlNVXT",
        "colab": {
          "base_uri": "https://localhost:8080/"
        },
        "outputId": "e9b39a0b-5e21-4c5d-ed03-c38f0c1bf872",
        "cell_id": "00062-ac50faab-3893-4032-914a-30fddccc4b4b",
        "deepnote_cell_type": "code"
      },
      "source": "#Test Imput 2\n!g++ max_pairwise_product_efficient.cpp -o max_pairwise_product_efficient\n!time ./max_pairwise_product_efficient < input2.txt",
      "outputs": [
        {
          "output_type": "stream",
          "text": "40000000000\n\nreal\t0m0.003s\nuser\t0m0.001s\nsys\t0m0.002s\n",
          "name": "stdout"
        }
      ],
      "execution_count": null
    },
    {
      "cell_type": "markdown",
      "source": "Test and time it with input 3",
      "metadata": {
        "id": "PRX51wADNR8b",
        "cell_id": "00063-f501ebeb-e78f-43bf-b775-d3a80466575a",
        "deepnote_cell_type": "markdown"
      }
    },
    {
      "cell_type": "code",
      "metadata": {
        "id": "v4z7-Is_NRt7",
        "colab": {
          "base_uri": "https://localhost:8080/"
        },
        "outputId": "3fbd372a-9a74-4c3a-8bb0-bc77c8e75744",
        "cell_id": "00064-75773eb7-7d34-44ab-b6ad-f0abb231567c",
        "deepnote_cell_type": "code"
      },
      "source": "#Test Imput 3\n!g++ max_pairwise_product_efficient.cpp -o max_pairwise_product_efficient\n!time ./max_pairwise_product_efficient < input3.txt",
      "outputs": [
        {
          "output_type": "stream",
          "text": "39999800000\n\nreal\t0m0.061s\nuser\t0m0.059s\nsys\t0m0.002s\n",
          "name": "stdout"
        }
      ],
      "execution_count": null
    },
    {
      "cell_type": "markdown",
      "source": "20 stress tests",
      "metadata": {
        "id": "rpdfs0_TNZJf",
        "cell_id": "00065-759e53e7-73b7-4ad5-abc8-ea3ead1d8061",
        "deepnote_cell_type": "markdown"
      }
    },
    {
      "cell_type": "code",
      "metadata": {
        "id": "Lu4tYcKzNcTT",
        "cell_id": "00066-a351369c-def2-4173-8a24-7bd4c2e3756d",
        "deepnote_to_be_reexecuted": false,
        "source_hash": "f6f855bd",
        "execution_start": 1618092575909,
        "execution_millis": 12,
        "deepnote_cell_type": "code"
      },
      "source": "%%writefile stress_tests.cpp\n#include <bits/stdc++.h>\n#include <cstdlib>\n\nusing namespace std;\n\nlong long MaxPairwiseProduct(const std::vector<int>& numbers) {\n    long long max_product = 0LL;\n\tlong long aux_product = 0LL;\n    int n = numbers.size();\n\n    for (int first = 0; first < n; ++first) {\n        for (int second = first + 1; second < n; ++second) {\n\t\t\t       aux_product =  (long long) numbers[first] * numbers[second];\n            if ( max_product < aux_product)  {\n\t\t\t\t        max_product = aux_product;\n             }\n        }\n    }\n\n    return max_product;\n}\n\nlong long MaxPairwiseProductEfficient(const vector<int>& numbers) {\n    long long max_product = 0LL;\n    int n = (int) numbers.size(), index1 = 0, index2 = 0;\n    for (int i = 1; i < n; i++) {\n        if (numbers[i] > numbers[index1]) {\n            index1 = i;\n        }\n    }\n    if (index1 == 0) {\n        index2 = 1;\n    }\n    for (int i = 0; i < n; i++) {\n        if (numbers[i] > numbers[index2] && i != index1) {\n            index2 = i;\n        }\n    }\n    max_product = (long long) numbers[index1] * numbers[index2];\n    return max_product;\n}\n\nvoid test(int t) {\n    for (int i = 0; i < t; i++) {\n        int n = rand() % 19 + 2;\n        vector<int> numbers(n);\n        cout << \"Test \";\n        cout << \"n = \" << n << '\\n';\n        for (int i = 0; i < n; i++) {\n            int number = rand() % 200000 + 1;\n            numbers[i] = number;\n        }\n        long long sol1 = MaxPairwiseProduct(numbers);\n        long long sol2 = MaxPairwiseProductEfficient(numbers);\n        if (sol1 != sol2) {\n            cout << \"Wrong solution\\n\";\n            cout << \"Expected solution: \" << sol1 << '\\n';\n            cout << \"Found solution: \" << sol2 << \"\\n\\n\";\n        } else {\n            cout << \"Right solution\\n\\n\";\n        }\n        \n    }\n}\n\nint main() {\n    test(20);\n    return 0;\n}",
      "execution_count": 7,
      "outputs": [
        {
          "name": "stdout",
          "text": "Writing stress_tests.cpp\n",
          "output_type": "stream"
        }
      ]
    },
    {
      "cell_type": "code",
      "source": "!g++ stress_test.cpp -o stress_test\n!./stress_test",
      "metadata": {
        "tags": [],
        "cell_id": "00067-19415f2e-e39d-4b60-bb68-993502453b77",
        "deepnote_to_be_reexecuted": false,
        "source_hash": "8820b9f3",
        "execution_start": 1618092580859,
        "execution_millis": 2017,
        "deepnote_cell_type": "code"
      },
      "outputs": [
        {
          "name": "stdout",
          "text": "Test n = 4\r\nRight solution\r\n\r\nTest n = 10\r\nRight solution\r\n\r\nTest n = 9\r\nRight solution\r\n\r\nTest n = 8\r\nRight solution\r\n\r\nTest n = 7\r\nRight solution\r\n\r\nTest n = 3\r\nRight solution\r\n\r\nTest n = 11\r\nRight solution\r\n\r\nTest n = 18\r\nRight solution\r\n\r\nTest n = 2\r\nRight solution\r\n\r\nTest n = 15\r\nRight solution\r\n\r\nTest n = 7\r\nRight solution\r\n\r\nTest n = 15\r\nRight solution\r\n\r\nTest n = 13\r\nRight solution\r\n\r\nTest n = 6\r\nRight solution\r\n\r\nTest n = 17\r\nRight solution\r\n\r\nTest n = 19\r\nRight solution\r\n\r\nTest n = 11\r\nRight solution\r\n\r\nTest n = 3\r\nRight solution\r\n\r\nTest n = 10\r\nRight solution\r\n\r\nTest n = 7\r\nRight solution\r\n\r\n",
          "output_type": "stream"
        }
      ],
      "execution_count": 8
    },
    {
      "cell_type": "markdown",
      "source": "Count executed instructions in code and verify with inputs 1,2 and 3\n",
      "metadata": {
        "id": "L8U4151JNbxk",
        "cell_id": "00067-5d614cf0-5b72-40f5-9f5e-df08692c5ffe",
        "deepnote_cell_type": "markdown"
      }
    },
    {
      "cell_type": "code",
      "metadata": {
        "id": "dh85RM8vNhFz",
        "cell_id": "00068-24835885-e2b0-4889-b733-0f19fdfb68f9",
        "deepnote_to_be_reexecuted": false,
        "source_hash": "645974b4",
        "execution_millis": 7,
        "execution_start": 1618092771714,
        "deepnote_cell_type": "code"
      },
      "source": "%%writefile max_pairwise_product_efficient.cpp\n#include <bits/stdc++.h>\nusing namespace std;\n\nlong long MaxPairwiseProductEfficient(const vector<int>& numbers, long long &execints) {\n    \n    long long max_product = 0LL;                                                      //1\n    execints++;\n\n    int n = (int) numbers.size(), index1 = 0, index2 = 0;                             //3\n    execints += 3;\n\n    execints++;\n    for (int i = 1; i < n; i++) {\n        execints += 2;                                                                //1+2(n-1)\n        execints++;\n        if (numbers[i] > numbers[index1]) {                                           //n-1\n            execints++;    \n            index1 = i;                                                               //[0, (n-1)]\n        }\n    }\n    execints++;                                              \n    if (index1 == 0) {                                                                //1\n        execints++;\n        index2 = 1;                                                                   //1\n    }\n\n    execints++;\n    for (int i = 0; i < n; i++) {                                                     //1+2n\n        execints += 2;\n\n        execints += 3;\n        if (numbers[i] > numbers[index2] && i != index1) {                             //3n\n            execints++;                           \n            index2 = i;                                                                //[0, (n-2)]\n        }\n    }\n    \n    execints++;\n    max_product = (long long) numbers[index1] * numbers[index2];                      //1\n    return max_product;                                                               //6 +8n+[0, (n-1)]+[0, (n-2)]\n}\n\nint main() {\n    long long execints = 0LL;\n\n    execints++;\n    int n;                                                                            //1\n\n    execints++;\n    cin >> n;                                                                         //1\n\n    execints += n;\n    vector<int> numbers(n);                                                           //n\n\n    execints++;\n    for (int i = 0; i < n; i++) {                                                     //1 +2n\n        execints += 3;\n        cin >> numbers[i];                                                            //n\n    }\n\n    execints++;\n    cout << MaxPairwiseProductEfficient(numbers, execints) << \"\\n\";                   //1\n    cout << \"Número de instrucciones ejecutadas: \" << execints << '\\n';\n    return 0;                                                                         //9 +12n+[0, (n-1)]+[0, (n-2)]\n}",
      "execution_count": 12,
      "outputs": [
        {
          "name": "stdout",
          "text": "Overwriting max_pairwise_product_efficient.cpp\n",
          "output_type": "stream"
        }
      ]
    },
    {
      "cell_type": "code",
      "source": "# Test input 1\n!g++ max_pairwise_product_efficient.cpp -o max_pairwise_product_efficient\n!time ./max_pairwise_product_efficient < input1.txt",
      "metadata": {
        "tags": [],
        "cell_id": "00069-c679d62e-73b8-4d69-8f8d-6a2b800de724",
        "deepnote_to_be_reexecuted": false,
        "source_hash": "bbf297ea",
        "execution_millis": 2032,
        "execution_start": 1618092775243,
        "deepnote_cell_type": "code"
      },
      "outputs": [
        {
          "name": "stdout",
          "text": "90\r\nNúmero de instrucciones ejecutadas: 146\r\n\r\nreal\t0m0.005s\r\nuser\t0m0.002s\r\nsys\t0m0.000s\r\n",
          "output_type": "stream"
        }
      ],
      "execution_count": 13
    },
    {
      "cell_type": "markdown",
      "source": "\nThe number of instructions executed by the algooirithm with a list of size $10$ is",
      "metadata": {
        "tags": [],
        "cell_id": "00070-da6c475f-8e90-439e-becb-8ae7446307ca",
        "deepnote_cell_type": "markdown"
      }
    },
    {
      "cell_type": "markdown",
      "source": "$$T = 9+12n+[0, (n-1)]+[0, (n-2)]$$\n\n$$T = 9+12(10)+[0, ((10)-1)]+[0, ((10)-2)]$$\n\n$$T = 146$$",
      "metadata": {
        "tags": [],
        "cell_id": "00071-a27c434b-0fad-44e2-b6d7-473bea9de945",
        "deepnote_cell_type": "markdown"
      }
    },
    {
      "cell_type": "code",
      "source": "# Test input 2\n!g++ max_pairwise_product_efficient.cpp -o max_pairwise_product_efficient\n!time ./max_pairwise_product_efficient < input2.txt",
      "metadata": {
        "tags": [],
        "cell_id": "00070-429cac54-8d38-4275-9097-467cbeef03f8",
        "deepnote_to_be_reexecuted": false,
        "source_hash": "b6b6bcf7",
        "execution_millis": 2076,
        "execution_start": 1618092781134,
        "deepnote_cell_type": "code"
      },
      "outputs": [
        {
          "name": "stdout",
          "text": "40000000000\r\nNúmero de instrucciones ejecutadas: 86\r\n\r\nreal\t0m0.005s\r\nuser\t0m0.000s\r\nsys\t0m0.002s\r\n",
          "output_type": "stream"
        }
      ],
      "execution_count": 14
    },
    {
      "cell_type": "markdown",
      "source": "The number of instructions executed by the algooirithm with a list of size $6$ is",
      "metadata": {
        "tags": [],
        "cell_id": "00073-4662e729-e5f6-4217-886a-a27a8ece0c82",
        "deepnote_cell_type": "markdown"
      }
    },
    {
      "cell_type": "markdown",
      "source": "$$T = 9+12n+[0, (n-1)]+[0, (n-2)]$$\n\n$$T = 9+12(6)+[0, ((6)-1)]+[0, ((6)-2)]$$\n\n$$T = 86$$",
      "metadata": {
        "tags": [],
        "cell_id": "00073-85c4b48f-752a-4cfb-8b6c-96a4b8e74167",
        "deepnote_cell_type": "markdown"
      }
    },
    {
      "cell_type": "code",
      "source": "# Test input 3\n!g++ max_pairwise_product_efficient.cpp -o max_pairwise_product_efficient\n!time ./max_pairwise_product_efficient < input3.txt",
      "metadata": {
        "tags": [],
        "cell_id": "00071-13c536ed-7007-4c71-b272-1f9d11e3b2de",
        "deepnote_to_be_reexecuted": false,
        "source_hash": "5ff14303",
        "execution_millis": 2088,
        "execution_start": 1618092786731,
        "deepnote_cell_type": "code"
      },
      "outputs": [
        {
          "name": "stdout",
          "text": "39999800000\r\nNúmero de instrucciones ejecutadas: 2800006\r\n\r\nreal\t0m0.058s\r\nuser\t0m0.055s\r\nsys\t0m0.000s\r\n",
          "output_type": "stream"
        }
      ],
      "execution_count": 15
    },
    {
      "cell_type": "markdown",
      "source": "The number of instructions executed by the algooirithm with a list of size $200000$ is",
      "metadata": {
        "tags": [],
        "cell_id": "00076-016c870e-242a-4be0-b603-275290b7a6dc",
        "deepnote_cell_type": "markdown"
      }
    },
    {
      "cell_type": "markdown",
      "source": "$$T = 9+12n+[0, (n-1)]+[0, (n-2)]$$\n\n$$T = 9+12(200000)+[0, ((200000)-1)]+[0, ((200000)-2)]$$\n\n$$T = 2800006$$",
      "metadata": {
        "tags": [],
        "cell_id": "00075-c2d6c1ac-5fcb-4ab3-9055-f45909f1a3d5",
        "deepnote_cell_type": "markdown"
      }
    },
    {
      "cell_type": "markdown",
      "source": "Calculate estimated time by instruction and number of instructions by second",
      "metadata": {
        "id": "K6ybgCmpNygr",
        "cell_id": "00069-386a9ca5-a12a-4bfd-9695-cab2bc432670",
        "deepnote_cell_type": "markdown"
      }
    },
    {
      "cell_type": "code",
      "metadata": {
        "id": "kwe3G1O3Nz1w",
        "cell_id": "00070-85407b42-4c55-4620-9611-3ca9ca1011b9",
        "deepnote_to_be_reexecuted": false,
        "source_hash": "6ca7a230",
        "execution_millis": 10,
        "execution_start": 1618092814349,
        "deepnote_cell_type": "code"
      },
      "source": "# Test input 1\ntime_per_instruction = 0.005 / 146\ninstructions_per_second = 1 / time_per_instruction\nprint(f'Tiempo estimado por instrucción: {time_per_instruction} seg')\nprint(f'Número de instrucciones por segundo: {instructions_per_second}')",
      "execution_count": 17,
      "outputs": [
        {
          "name": "stdout",
          "text": "Tiempo estimado por instrucción: 3.424657534246575e-05 seg\nNúmero de instrucciones por segundo: 29200.000000000004\n",
          "output_type": "stream"
        }
      ]
    },
    {
      "cell_type": "code",
      "source": "# Test input 2\ntime_per_instruction = 0.005 / 86\ninstructions_per_second = 1 / time_per_instruction\nprint(f'Tiempo estimado por instrucción: {time_per_instruction} seg')\nprint(f'Número de instrucciones por segundo: {instructions_per_second}')",
      "metadata": {
        "tags": [],
        "cell_id": "00074-b1bb02e9-a9b7-4648-87dd-f78a6bdd5e40",
        "deepnote_to_be_reexecuted": false,
        "source_hash": "9e983fc8",
        "execution_millis": 10,
        "execution_start": 1618092817994,
        "deepnote_cell_type": "code"
      },
      "outputs": [
        {
          "name": "stdout",
          "text": "Tiempo estimado por instrucción: 5.8139534883720933e-05 seg\nNúmero de instrucciones por segundo: 17200.0\n",
          "output_type": "stream"
        }
      ],
      "execution_count": 18
    },
    {
      "cell_type": "code",
      "source": "# Test input 3\ntime_per_instruction = 0.058 / 2800006\ninstructions_per_second = 1 / time_per_instruction\nprint(f'Tiempo estimado por instrucción: {time_per_instruction} seg')\nprint(f'Número de instrucciones por segundo: {instructions_per_second}')",
      "metadata": {
        "tags": [],
        "cell_id": "00075-ec1493f8-fcd3-448f-b103-58c7b2728615",
        "deepnote_to_be_reexecuted": false,
        "source_hash": "84137488",
        "execution_millis": 11,
        "execution_start": 1618092820327,
        "deepnote_cell_type": "code"
      },
      "outputs": [
        {
          "name": "stdout",
          "text": "Tiempo estimado por instrucción: 2.0714241326625728e-08 seg\nNúmero de instrucciones por segundo: 48275965.51724138\n",
          "output_type": "stream"
        }
      ],
      "execution_count": 19
    },
    {
      "cell_type": "markdown",
      "source": "### Super efficient solution\n\nWhitout storing the list in memory and whitout calling a function, add in each line a coment with the number of intstrcution that are executed in that line ",
      "metadata": {
        "id": "sc9nOLQrfTm0",
        "cell_id": "00071-5a445623-88fb-4144-ac5d-fa86788eb544",
        "deepnote_cell_type": "markdown"
      }
    },
    {
      "cell_type": "code",
      "metadata": {
        "id": "hBLt_xBQLy8E",
        "cell_id": "00072-e224f458-dfb4-45dc-8aef-93514d6b278e",
        "deepnote_to_be_reexecuted": false,
        "source_hash": "56fa2bef",
        "execution_start": 1618091588652,
        "execution_millis": 88,
        "deepnote_cell_type": "code"
      },
      "source": "%%writefile max_pairwise_product_super_efficient.cpp\n#include <bits/stdc++.h>\n\nusing namespace std;\n\nint main() {\n    int n = 2; cin >> n;                                                             //2\n    long long number, max1 = -1, max2 = -1;                                          //2\n    for (int i = 0; i < n; i++) {                                                    //1 +2n\n        cin >> number;                                                               //n \n        if (max1 == -1) {                                                            //n\n            max1 = number;                                                           //1\n            continue;\n        }\n        if (max2 == -1) {                                                            //n\n            max2 = number;                                                           //1\n            if (max2 > max1) {                                                       //1\n                swap(max1, max2);                                                    //1\n            }\n            continue;\n        }\n        if (number > max1) {                                                         //n-2\n            max2 = max1;                                                             //[0, (n-2)]\n            max1 = number;                                                           //[0, (n-2)]\n        } else if (number > max2) {                                                  //[0, (n-2)]\n            max2 = number;                                                           //[0, (n-2)]\n        }\n    }\n    cout << (max1 * max2) << '\\n';                                                   //1\n}                                                                                    //8 + 6n+ 4[0, (n-2)]",
      "execution_count": 1,
      "outputs": [
        {
          "name": "stdout",
          "text": "Writing max_pairwise_product_super_efficient.cpp\n",
          "output_type": "stream"
        }
      ]
    },
    {
      "cell_type": "markdown",
      "source": "Test with inputs 1 and 2\n\n\n ",
      "metadata": {
        "id": "683gc3roHqzb",
        "cell_id": "00073-057fbf19-e6e8-46e5-9cdd-2a53448b25f5",
        "deepnote_cell_type": "markdown"
      }
    },
    {
      "cell_type": "code",
      "metadata": {
        "id": "b7d4LA8OIc2_",
        "cell_id": "00074-52c4bd02-b447-4c06-8cba-4171821bddfe",
        "deepnote_to_be_reexecuted": false,
        "source_hash": "c20199b4",
        "execution_millis": 2008,
        "execution_start": 1618092854545,
        "deepnote_cell_type": "code"
      },
      "source": "# Test input 1\n!g++ max_pairwise_product_super_efficient.cpp -o max_pairwise_product_super_efficient\n!time ./max_pairwise_product_super_efficient < input1.txt",
      "execution_count": 20,
      "outputs": [
        {
          "name": "stdout",
          "text": "90\r\n\r\nreal\t0m0.003s\r\nuser\t0m0.002s\r\nsys\t0m0.000s\r\n",
          "output_type": "stream"
        }
      ]
    },
    {
      "cell_type": "code",
      "source": "# Test input 1\n!g++ max_pairwise_product_super_efficient.cpp -o max_pairwise_product_super_efficient\n!time ./max_pairwise_product_super_efficient < input2.txt",
      "metadata": {
        "tags": [],
        "cell_id": "00086-86ff4652-738b-49b5-a047-7cf670d68eb7",
        "deepnote_to_be_reexecuted": false,
        "source_hash": "69ee3a83",
        "execution_millis": 2003,
        "execution_start": 1618092862471,
        "deepnote_cell_type": "code"
      },
      "outputs": [
        {
          "name": "stdout",
          "text": "40000000000\r\n\r\nreal\t0m0.004s\r\nuser\t0m0.002s\r\nsys\t0m0.000s\r\n",
          "output_type": "stream"
        }
      ],
      "execution_count": 21
    },
    {
      "cell_type": "markdown",
      "source": "Test and time it with input 3",
      "metadata": {
        "id": "36Ugn1odIeJz",
        "cell_id": "00075-35ffc640-839c-463b-b052-fb5cca7f3ab8",
        "deepnote_cell_type": "markdown"
      }
    },
    {
      "cell_type": "code",
      "metadata": {
        "id": "jDyMbCnxHqSN",
        "cell_id": "00076-8dee0250-424d-46e7-9dc0-9f03cfc99428",
        "deepnote_to_be_reexecuted": false,
        "source_hash": "9caa3da5",
        "execution_millis": 2055,
        "execution_start": 1618092867620,
        "deepnote_cell_type": "code"
      },
      "source": "# Test input 3\n!g++ max_pairwise_product_super_efficient.cpp -o max_pairwise_product_super_efficient\n!time ./max_pairwise_product_super_efficient < input3.txt",
      "execution_count": 22,
      "outputs": [
        {
          "name": "stdout",
          "text": "39999800000\r\n\r\nreal\t0m0.053s\r\nuser\t0m0.050s\r\nsys\t0m0.000s\r\n",
          "output_type": "stream"
        }
      ]
    },
    {
      "cell_type": "markdown",
      "source": "20 stress tests ",
      "metadata": {
        "id": "bhqiKQG6fjKM",
        "cell_id": "00077-674a35de-8c14-4366-b7ae-b9e3ce6750f4",
        "deepnote_cell_type": "markdown"
      }
    },
    {
      "cell_type": "code",
      "metadata": {
        "id": "2KsiXKhALzwm",
        "cell_id": "00078-d69477b9-e11f-4ae3-a224-96a485b5dc3f",
        "deepnote_to_be_reexecuted": false,
        "source_hash": "daff4986",
        "execution_start": 1618092513215,
        "execution_millis": 12,
        "deepnote_cell_type": "code"
      },
      "source": "%%writefile stress_test.cpp\n#include <bits/stdc++.h>\n#include <cstdlib>\n\nusing namespace std;\n\nlong long MaxPairwiseProduct(const vector<int>& numbers) {\n    long long max_product = 0LL;\n\t  long long aux_product = 0LL;\n    int n = numbers.size();\n\n    for (int first = 0; first < n; ++first) {\n        for (int second = first + 1; second < n; ++second) {\n\t\t\t       aux_product =  (long long) numbers[first] * numbers[second];\n            if ( max_product < aux_product)  {\n\t\t\t\t        max_product = aux_product;\n             }\n        }\n    }\n\n    return max_product;\n}\n\nvoid test(int t) {\n    for (int i = 0; i < t; i++) {\n        int n = rand() % 19 + 2;\n        vector<int> numbers(n);\n        cout << \"Test \";\n        cout << \"n = \" << n << '\\n';\n        // Super Efficient  Solution\n        long long number, max1 = -1, max2 = -1;\n        for (int i = 0; i < n; i++) {\n            int el = rand() % 200000 + 1;\n            numbers[i] = el;\n            number = (long long) el;\n            if (max1 == -1) {\n                max1 = number;\n                continue;\n            }\n            if (max2 == -1) {\n                max2 = number;\n                if (max2 > max1) {\n                    swap(max1, max2);\n                }\n                continue;\n            }\n            if (number > max1) {\n                max2 = max1;\n                max1 = number;\n            } else if (number > max2) {\n                max2 = number;\n            }\n        }\n        long long sol1 = MaxPairwiseProduct(numbers);\n        long long sol2 = (max1 * max2);\n        if (sol1 != sol2) {\n            cout << \"Wrong solution\\n\";\n            cout << \"Expected solution: \" << sol1 << '\\n';\n            cout << \"Found solution: \" << sol2 << \"\\n\\n\";\n        } else {\n            cout << \"Right solution\\n\\n\";\n        }\n    }\n}\n\nint main() {\n    test(20);\n    return 0;\n}",
      "execution_count": 5,
      "outputs": [
        {
          "name": "stdout",
          "text": "Writing stress_test.cpp\n",
          "output_type": "stream"
        }
      ]
    },
    {
      "cell_type": "code",
      "source": "!g++ stress_test.cpp -o stress_test\n!./stress_test",
      "metadata": {
        "tags": [],
        "cell_id": "00091-b131ad67-717d-4e10-9e8f-93f3989502a0",
        "deepnote_to_be_reexecuted": false,
        "source_hash": "8820b9f3",
        "execution_start": 1618092516867,
        "execution_millis": 2027,
        "deepnote_cell_type": "code"
      },
      "outputs": [
        {
          "name": "stdout",
          "text": "Test n = 4\r\nRight solution\r\n\r\nTest n = 10\r\nRight solution\r\n\r\nTest n = 9\r\nRight solution\r\n\r\nTest n = 8\r\nRight solution\r\n\r\nTest n = 7\r\nRight solution\r\n\r\nTest n = 3\r\nRight solution\r\n\r\nTest n = 11\r\nRight solution\r\n\r\nTest n = 18\r\nRight solution\r\n\r\nTest n = 2\r\nRight solution\r\n\r\nTest n = 15\r\nRight solution\r\n\r\nTest n = 7\r\nRight solution\r\n\r\nTest n = 15\r\nRight solution\r\n\r\nTest n = 13\r\nRight solution\r\n\r\nTest n = 6\r\nRight solution\r\n\r\nTest n = 17\r\nRight solution\r\n\r\nTest n = 19\r\nRight solution\r\n\r\nTest n = 11\r\nRight solution\r\n\r\nTest n = 3\r\nRight solution\r\n\r\nTest n = 10\r\nRight solution\r\n\r\nTest n = 7\r\nRight solution\r\n\r\n",
          "output_type": "stream"
        }
      ],
      "execution_count": 6
    },
    {
      "cell_type": "markdown",
      "source": "Count executed instructions in code and verify with inputs 1,2 and 3",
      "metadata": {
        "id": "fEXj8GHJH5p1",
        "cell_id": "00079-5e020b92-6f67-409a-8caa-ac78790ee18c",
        "deepnote_cell_type": "markdown"
      }
    },
    {
      "cell_type": "code",
      "metadata": {
        "id": "LF1DHjKXIAsF",
        "cell_id": "00080-158ebf9c-854b-4282-90af-1f52b06f1ecf",
        "deepnote_to_be_reexecuted": false,
        "source_hash": "eb9fe46a",
        "execution_start": 1618093100262,
        "execution_millis": 8,
        "deepnote_cell_type": "code"
      },
      "source": "%%writefile max_pairwise_product_super_efficient.cpp\n#include <bits/stdc++.h>\n\nusing namespace std;\n\nint main() {\n    long long execints = 0LL;\n    execints += 2;\n    int n = 2; cin >> n;\n    execints += 3;\n    long long number, max1 = -1, max2 = -1;\n    execints++;\n    for (int i = 0; i < n; i++) {\n        execints += 2;\n        execints++;\n        cin >> number;\n        execints++;\n        if (max1 == -1) {\n            execints++;\n            max1 = number;\n            continue;\n        }\n        execints++;\n        if (max2 == -1) {\n            execints++;\n            max2 = number;\n            execints++;\n            if (max2 > max1) {\n                execints++;\n                swap(max1, max2);\n            }\n            continue;\n        }\n        execints++;\n        if (number > max1) {\n            execints++;\n            max2 = max1;\n            execints++;\n            max1 = number;\n        } else if (number > max2) {\n            execints += 2;\n            max2 = number;\n        }\n    }\n    execints++;\n    cout << (max1 * max2) << '\\n';\n    cout << \"Número de instrucciones ejecutadas: \" << execints << '\\n';\n}",
      "execution_count": 23,
      "outputs": [
        {
          "name": "stdout",
          "text": "Overwriting max_pairwise_product_super_efficient.cpp\n",
          "output_type": "stream"
        }
      ]
    },
    {
      "cell_type": "markdown",
      "source": "The number of instructions executed by the algorithm with a list of size $10$ is",
      "metadata": {
        "tags": [],
        "cell_id": "00096-1dae4ca7-3ef9-4438-ac5a-a7c8117637b9",
        "deepnote_cell_type": "markdown"
      }
    },
    {
      "cell_type": "code",
      "source": "# Test input 1\n!g++ max_pairwise_product_super_efficient.cpp -o max_pairwise_product_super_efficient\n!time ./max_pairwise_product_super_efficient < input1.txt",
      "metadata": {
        "tags": [],
        "cell_id": "00096-d3eb1d4e-f643-476b-bfd3-c58165ba6609",
        "deepnote_to_be_reexecuted": false,
        "source_hash": "c20199b4",
        "execution_start": 1618093227874,
        "execution_millis": 1990,
        "deepnote_cell_type": "code"
      },
      "outputs": [
        {
          "name": "stdout",
          "text": "90\r\nNúmero de instrucciones ejecutadas: 84\r\n\r\nreal\t0m0.004s\r\nuser\t0m0.002s\r\nsys\t0m0.000s\r\n",
          "output_type": "stream"
        }
      ],
      "execution_count": 24
    },
    {
      "cell_type": "markdown",
      "source": "The number of instructions executed by the algorithm with a list of size $6$ is",
      "metadata": {
        "tags": [],
        "cell_id": "00098-e3a4353b-eb88-4233-90d6-aa318398a510",
        "deepnote_cell_type": "markdown"
      }
    },
    {
      "cell_type": "code",
      "source": "# Test input 2\n!g++ max_pairwise_product_super_efficient.cpp -o max_pairwise_product_super_efficient\n!time ./max_pairwise_product_super_efficient < input2.txt",
      "metadata": {
        "tags": [],
        "cell_id": "00099-5e63cda8-aa56-4b57-b2dc-92c4f1f2f101",
        "deepnote_to_be_reexecuted": false,
        "source_hash": "e308ee9e",
        "execution_start": 1618093325712,
        "execution_millis": 2040,
        "deepnote_cell_type": "code"
      },
      "outputs": [
        {
          "name": "stdout",
          "text": "40000000000\r\nNúmero de instrucciones ejecutadas: 50\r\n\r\nreal\t0m0.005s\r\nuser\t0m0.002s\r\nsys\t0m0.000s\r\n",
          "output_type": "stream"
        }
      ],
      "execution_count": 25
    },
    {
      "cell_type": "markdown",
      "source": "The number of instructions executed by the algorithm with a list of size $200000$ is",
      "metadata": {
        "tags": [],
        "cell_id": "00100-adf1e728-4844-42ab-9b21-004455653aa0",
        "deepnote_cell_type": "markdown"
      }
    },
    {
      "cell_type": "code",
      "source": "# Test input 3\n!g++ max_pairwise_product_super_efficient.cpp -o max_pairwise_product_super_efficient\n!time ./max_pairwise_product_super_efficient < input3.txt",
      "metadata": {
        "tags": [],
        "cell_id": "00101-9562f665-f772-467d-933e-9b70f99c90f0",
        "deepnote_to_be_reexecuted": false,
        "source_hash": "9caa3da5",
        "execution_start": 1618093370936,
        "execution_millis": 2071,
        "deepnote_cell_type": "code"
      },
      "outputs": [
        {
          "name": "stdout",
          "text": "39999800000\r\nNúmero de instrucciones ejecutadas: 1600004\r\n\r\nreal\t0m0.053s\r\nuser\t0m0.051s\r\nsys\t0m0.000s\r\n",
          "output_type": "stream"
        }
      ],
      "execution_count": 29
    },
    {
      "cell_type": "markdown",
      "source": "Calculate estimated time by instruction and number of instructions by second",
      "metadata": {
        "id": "yae7sSm2IG9U",
        "cell_id": "00081-d8c502c2-eaff-41aa-973f-ec468ff88ff6",
        "deepnote_cell_type": "markdown"
      }
    },
    {
      "cell_type": "code",
      "metadata": {
        "id": "suouY7BYL2dz",
        "cell_id": "00082-06ee5bfa-8a97-4c65-8ab6-8f59824d1407",
        "deepnote_to_be_reexecuted": false,
        "source_hash": "379eccab",
        "execution_start": 1618093357043,
        "execution_millis": 11,
        "deepnote_cell_type": "code"
      },
      "source": "# Test input 1\ntime_per_instruction = 0.004 / 84\ninstructions_per_second = 1 / time_per_instruction\nprint(f'Tiempo estimado por instrucción: {time_per_instruction} seg')\nprint(f'Número de instrucciones por segundo: {instructions_per_second}')",
      "execution_count": 26,
      "outputs": [
        {
          "name": "stdout",
          "text": "Tiempo estimado por instrucción: 4.761904761904762e-05 seg\nNúmero de instrucciones por segundo: 21000.0\n",
          "output_type": "stream"
        }
      ]
    },
    {
      "cell_type": "code",
      "source": "# Test input 2\ntime_per_instruction = 0.005 / 50\ninstructions_per_second = 1 / time_per_instruction\nprint(f'Tiempo estimado por instrucción: {time_per_instruction} seg')\nprint(f'Número de instrucciones por segundo: {instructions_per_second}')",
      "metadata": {
        "tags": [],
        "cell_id": "00097-569ad2dc-d977-4a94-b50d-10781cea867c",
        "deepnote_to_be_reexecuted": false,
        "source_hash": "768acd5e",
        "execution_millis": 10,
        "execution_start": 1618093369553,
        "deepnote_cell_type": "code"
      },
      "outputs": [
        {
          "name": "stdout",
          "text": "Tiempo estimado por instrucción: 0.0001 seg\nNúmero de instrucciones por segundo: 10000.0\n",
          "output_type": "stream"
        }
      ],
      "execution_count": 28
    },
    {
      "cell_type": "code",
      "source": "# Test input 3\ntime_per_instruction = 0.053 / 1600004\ninstructions_per_second = 1 / time_per_instruction\nprint(f'Tiempo estimado por instrucción: {time_per_instruction} seg')\nprint(f'Número de instrucciones por segundo: {instructions_per_second}')",
      "metadata": {
        "tags": [],
        "cell_id": "00098-51e0dab5-3ebd-4776-b438-c96d22a4bfe4",
        "deepnote_to_be_reexecuted": false,
        "source_hash": "bcac3353",
        "execution_start": 1618093397834,
        "execution_millis": 7,
        "deepnote_cell_type": "code"
      },
      "outputs": [
        {
          "name": "stdout",
          "text": "Tiempo estimado por instrucción: 3.312491718770703e-08 seg\nNúmero de instrucciones por segundo: 30188754.71698113\n",
          "output_type": "stream"
        }
      ],
      "execution_count": 30
    },
    {
      "cell_type": "markdown",
      "source": "## Python",
      "metadata": {
        "id": "rydCU4bFfrhG",
        "cell_id": "00083-b104f650-86bb-41d2-92d2-754b0d96bcd6",
        "deepnote_cell_type": "markdown"
      }
    },
    {
      "cell_type": "markdown",
      "source": "### Solution using sorting",
      "metadata": {
        "tags": [],
        "cell_id": "00107-5f816bbd-c797-4495-8af4-2dd5b62ed462",
        "deepnote_cell_type": "text-cell-h3"
      }
    },
    {
      "cell_type": "code",
      "source": "%%writefile max_product3.py\n\ndef max_product(arr, n):                                                       \n  arr.sort(reverse=True)\n  max_p = arr[0] * arr[1]\n  return max_p\n\ninput_n = int(input())\ninput_numbers = [int(x) for x in input().split()]\n\nprint(max_product(input_numbers, input_n))",
      "metadata": {
        "tags": [],
        "cell_id": "00108-cfa251aa-2ea9-4fdb-8d57-db467a64f2e8",
        "deepnote_to_be_reexecuted": false,
        "source_hash": "9b5bb8cf",
        "execution_start": 1618093428488,
        "execution_millis": 11,
        "deepnote_cell_type": "code"
      },
      "outputs": [
        {
          "name": "stdout",
          "text": "Writing max_product3.py\n",
          "output_type": "stream"
        }
      ],
      "execution_count": 31
    },
    {
      "cell_type": "markdown",
      "source": "Resultado y tiempo para el caso con n = 5, en el cual dos números tienen el valor de 200000.",
      "metadata": {
        "tags": [],
        "cell_id": "00109-6336509a-5977-4da2-be14-85236d9359ba",
        "deepnote_cell_type": "text-cell-p"
      }
    },
    {
      "cell_type": "code",
      "source": "!time python max_product3.py < input1.txt",
      "metadata": {
        "tags": [],
        "cell_id": "00110-dfb8f689-26d4-43bc-8648-2b1bc346716a",
        "deepnote_to_be_reexecuted": false,
        "source_hash": "a3257fb",
        "execution_start": 1618093468088,
        "execution_millis": 591,
        "deepnote_cell_type": "code"
      },
      "outputs": [
        {
          "name": "stdout",
          "text": "90\r\n\r\nreal\t0m0.020s\r\nuser\t0m0.011s\r\nsys\t0m0.004s\r\n",
          "output_type": "stream"
        }
      ],
      "execution_count": 32
    },
    {
      "cell_type": "markdown",
      "source": "Resultado y tiempo para el caso generado aleatoriamente con n = 2000000.",
      "metadata": {
        "tags": [],
        "cell_id": "00111-b48718cd-db39-4f23-8b9e-ab7346c248c0",
        "deepnote_cell_type": "text-cell-p"
      }
    },
    {
      "cell_type": "code",
      "source": "!time python max_product3.py < input2.txt",
      "metadata": {
        "tags": [],
        "cell_id": "00112-97abc1f8-224a-4d42-80d8-afd4a3f78b2f",
        "deepnote_to_be_reexecuted": false,
        "source_hash": "905721f5",
        "execution_start": 1618093497350,
        "execution_millis": 550,
        "deepnote_cell_type": "code"
      },
      "outputs": [
        {
          "name": "stdout",
          "text": "40000000000\r\n\r\nreal\t0m0.018s\r\nuser\t0m0.010s\r\nsys\t0m0.005s\r\n",
          "output_type": "stream"
        }
      ],
      "execution_count": 33
    },
    {
      "cell_type": "markdown",
      "source": "# Screenshots of the Coursera Submissions in C++ and Python",
      "metadata": {
        "id": "LkVxxlhl9H98",
        "cell_id": "00086-4d81251f-9042-4ca0-986a-7ca3617ae9ee",
        "deepnote_cell_type": "markdown"
      }
    },
    {
      "cell_type": "markdown",
      "source": "\"![week_1_1.PNG](data:image/png;base64,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)\"\n",
      "metadata": {
        "tags": [],
        "cell_id": "00115-a917a53e-5796-4d20-b35e-ca0417708d66",
        "deepnote_cell_type": "markdown"
      }
    },
    {
      "cell_type": "markdown",
      "source": "\"![week_1_2.PNG](data:image/png;base64,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)\"",
      "metadata": {
        "tags": [],
        "cell_id": "00116-20c7c4ed-a30f-4b82-958c-4673b2fced6c",
        "deepnote_cell_type": "markdown"
      }
    },
    {
      "cell_type": "markdown",
      "source": "<a style='text-decoration:none;line-height:16px;display:flex;color:#5B5B62;padding:10px;justify-content:end;' href='https://deepnote.com?utm_source=created-in-deepnote-cell&projectId=2344d9e3-4743-4bd9-9b0e-dd9daa8c97e3' target=\"_blank\">\n<img alt='Created in deepnote.com' style='display:inline;max-height:16px;margin:0px;margin-right:7.5px;' src='data:image/svg+xml;base64,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' > </img>\nCreated in <span style='font-weight:600;margin-left:4px;'>Deepnote</span></a>",
      "metadata": {
        "tags": [],
        "created_in_deepnote_cell": true,
        "deepnote_cell_type": "markdown"
      }
    }
  ],
  "nbformat": 4,
  "nbformat_minor": 0,
  "metadata": {
    "colab": {
      "name": "Lab6.ipynb",
      "provenance": [],
      "collapsed_sections": []
    },
    "kernelspec": {
      "name": "python3",
      "display_name": "Python 3"
    },
    "language_info": {
      "name": "python"
    },
    "deepnote_notebook_id": "371f1661-0334-492c-9ccc-66ca4cc0f54d",
    "deepnote": {},
    "deepnote_execution_queue": []
  }
}