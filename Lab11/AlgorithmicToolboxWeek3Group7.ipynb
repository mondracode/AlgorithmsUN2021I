{
  "nbformat": 4,
  "nbformat_minor": 0,
  "metadata": {
    "colab": {
      "name": "AlgorithmicToolboxWeek3Group7.ipynb",
      "provenance": [],
      "collapsed_sections": []
    },
    "kernelspec": {
      "name": "python3",
      "display_name": "Python 3"
    },
    "language_info": {
      "name": "python"
    }
  },
  "cells": [
    {
      "cell_type": "markdown",
      "metadata": {
        "id": "L1gja3uxRcWz"
      },
      "source": [
        "#Change"
      ]
    },
    {
      "cell_type": "code",
      "metadata": {
        "id": "-D7iq5MiRYxp",
        "colab": {
          "base_uri": "https://localhost:8080/"
        },
        "outputId": "ef4368e9-b439-4e5a-849e-8bf9ca2881fc"
      },
      "source": [
        "import sys\n",
        "\n",
        "\n",
        "def get_change(m):\n",
        "    # write your code here\n",
        "    total_coin_count = 0\n",
        "\n",
        "    while(m > 0):\n",
        "        if(m % 10 == 0):\n",
        "            m -= 10\n",
        "        elif(m % 5 == 0):\n",
        "            m -= 5\n",
        "        else:\n",
        "            m -= 1\n",
        "\n",
        "        total_coin_count += 1\n",
        "\n",
        "    return total_coin_count\n",
        "\n",
        "\n",
        "if __name__ == '__main__':\n",
        "    m = int(input())\n",
        "    print(get_change(m))\n"
      ],
      "execution_count": 1,
      "outputs": [
        {
          "output_type": "stream",
          "text": [
            "28\n",
            "6\n"
          ],
          "name": "stdout"
        }
      ]
    },
    {
      "cell_type": "markdown",
      "metadata": {
        "id": "pVnZjqprRj65"
      },
      "source": [
        "#Fractional Knapsack"
      ]
    },
    {
      "cell_type": "code",
      "metadata": {
        "id": "Qi1l4epSRbUd"
      },
      "source": [
        "import sys\n",
        "import operator\n",
        "\n",
        "\n",
        "class KnapsackObject:\n",
        "    def __init__(self, value, weight):\n",
        "        self.value = value\n",
        "        self.weight = weight\n",
        "        self.ratio = value / weight\n",
        "\n",
        "\n",
        "def get_optimal_value(capacity, weights, values):\n",
        "    value = 0.\n",
        "    # write your code here\n",
        "    ratios = []\n",
        "\n",
        "    n = len(values)\n",
        "    A = [0] * (n+1)\n",
        "\n",
        "    for i in range(0, n):\n",
        "        ratios.append(KnapsackObject(values[i], weights[i]))\n",
        "\n",
        "    ratios.sort(key=operator.attrgetter(\"ratio\"), reverse=True)\n",
        "\n",
        "    for i in range(0, n):\n",
        "        if capacity == 0:\n",
        "            return value\n",
        "        # print(weights[i])\n",
        "        a = min(ratios[i].weight, capacity)\n",
        "        value += a * ratios[i].ratio\n",
        "        ratios[i].weight -= a\n",
        "        A[i] += a\n",
        "        capacity -= a\n",
        "\n",
        "    return value\n",
        "\n",
        "\n",
        "if __name__ == \"__main__\":\n",
        "    data = list(map(int, sys.stdin.read().split()))\n",
        "    sys.stdin.close()\n",
        "    n, capacity = data[0:2]\n",
        "    values = data[2:(2 * n + 2):2]\n",
        "    weights = data[3:(2 * n + 2):2]\n",
        "    opt_value = get_optimal_value(capacity, weights, values)\n",
        "    print(\"{:.10f}\".format(opt_value))\n"
      ],
      "execution_count": null,
      "outputs": []
    },
    {
      "cell_type": "markdown",
      "metadata": {
        "id": "YDnwjA70Rv6B"
      },
      "source": [
        "#Maximum Advertisement Revenue"
      ]
    },
    {
      "cell_type": "code",
      "metadata": {
        "id": "g6Z9yxyqR_zT"
      },
      "source": [
        "import sys\n",
        "\n",
        "\n",
        "def max_dot_product(a, b):\n",
        "    # write your code here\n",
        "    a.sort(reverse=True)\n",
        "    b.sort(reverse=True)\n",
        "\n",
        "    res = 0\n",
        "    for i in range(len(a)):\n",
        "        res += a[i] * b[i]\n",
        "    return res\n",
        "\n",
        "\n",
        "if __name__ == '__main__':\n",
        "    input = sys.stdin.read()\n",
        "    data = list(map(int, input.split()))\n",
        "    n = data[0]\n",
        "    a = data[1:(n + 1)]\n",
        "    b = data[(n + 1):]\n",
        "    print(max_dot_product(a, b))"
      ],
      "execution_count": null,
      "outputs": []
    },
    {
      "cell_type": "markdown",
      "metadata": {
        "id": "s-KmKEzhShmt"
      },
      "source": [
        "#Santiago Mondragón Gómez\n",
        "\n",
        "![](https://i.imgur.com/c1HEqh9.png)"
      ]
    }
  ]
}