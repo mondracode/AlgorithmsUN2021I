{
  "nbformat": 4,
  "nbformat_minor": 0,
  "metadata": {
    "colab": {
      "name": "jzmendezl_week_1_LU_pivoting.ipynb",
      "provenance": [],
      "collapsed_sections": []
    },
    "kernelspec": {
      "name": "python3",
      "display_name": "Python 3"
    }
  },
  "cells": [
    {
      "cell_type": "markdown",
      "metadata": {
        "id": "OBc93xD1zMDD"
      },
      "source": [
        "# I. $LU$ factorization of a square matrix\n",
        "When we premultply $A$ by lower triangular elemetary matrices $\\Lambda_j$ it is trasfrommed in an  upper triangular matrix $U$\n",
        "\n",
        "$$  \\Lambda_{n-1}  \\ldots\\Lambda_2  \\Lambda_1 A  = U$$\n",
        "\n",
        "$$  A  = (\\Lambda_{n-1}  \\ldots\\Lambda_2  \\Lambda_2 )^{-1} U$$\n",
        "\n",
        "The inverse of a product of matrices is the revesre product of inverses\n",
        "$$  A  = (\\Lambda_1^{-1}  \\Lambda_2^{-1} \\ldots  \\Lambda_{n-1}^{-1}) U$$\n",
        "\n",
        "and inverse of a Lower Triangular Elemetary Matrix is minus the matrix $\\Lambda_j^{-1} = - \\Lambda_j$, so \n",
        "\n",
        "$$ A  =  (-\\Lambda_1) (-\\Lambda_2) \\ldots   (-\\Lambda_{n-1})  U$$\n",
        "\n",
        "So the $LU$ column pivot factorization is \n",
        "$$  A  = L U$$\n",
        "with\n",
        "$$ U = \\Lambda_{n-1}  \\ldots\\Lambda_2  \\Lambda_1 A  $$\n",
        "an upper triangular matrix\n",
        "$$ L  =  \\Lambda_1^{-1}  \\Lambda_2^{-1} \\ldots  \\Lambda_{n-1}^{-1} $$\n",
        "an lower triangular matrix."
      ]
    },
    {
      "cell_type": "markdown",
      "metadata": {
        "id": "dmO1wEA5zVVS"
      },
      "source": [
        "Consider a simple naive implementation of the LU decomposition. \n",
        "\n",
        "Note that we're using the `numpy` arrays to represent matrices [do **not** use `np.matrix`]."
      ]
    },
    {
      "cell_type": "code",
      "metadata": {
        "id": "0jzv0-yyzDM2"
      },
      "source": [
        "import numpy as np\n",
        "\n",
        "def diy_lu(a):\n",
        "    \"\"\"Construct the LU decomposition of the input matrix.\n",
        "    \n",
        "    Naive LU decomposition: work column by column, accumulate elementary triangular matrices.\n",
        "    No pivoting.\n",
        "    \"\"\"\n",
        "    N = a.shape[0]\n",
        "    \n",
        "    u = a.copy()\n",
        "    L = np.eye(N)\n",
        "    for j in range(N-1):\n",
        "        lam = np.eye(N)\n",
        "        gamma = u[j+1:, j] / u[j, j]\n",
        "        lam[j+1:, j] = -gamma\n",
        "        u = lam @ u\n",
        "\n",
        "        lam[j+1:, j] = gamma\n",
        "        L = L @ lam\n",
        "        print(\"L \\n\",np.array(L))\n",
        "        print(\"U \\n\",np.array(u))\n",
        "        print(\"lam \\n\",np.array(lam))\n",
        "    return L, u"
      ],
      "execution_count": 1,
      "outputs": []
    },
    {
      "cell_type": "code",
      "metadata": {
        "colab": {
          "base_uri": "https://localhost:8080/"
        },
        "id": "yW-cZc_qzd0Z",
        "outputId": "8cb275c7-16e0-4151-dfd5-e617f571bb64"
      },
      "source": [
        "# Now, generate a full rank matrix and test the naive implementation\n",
        "\n",
        "import numpy as np\n",
        "\n",
        "N = 6\n",
        "a = np.zeros((N, N), dtype=float)\n",
        "for i in range(N):\n",
        "    for j in range(N):\n",
        "        a[i, j] = 3. / (0.6*i*j + 1)\n",
        "\n",
        "np.linalg.matrix_rank(a)"
      ],
      "execution_count": 2,
      "outputs": [
        {
          "output_type": "execute_result",
          "data": {
            "text/plain": [
              "6"
            ]
          },
          "metadata": {
            "tags": []
          },
          "execution_count": 2
        }
      ]
    },
    {
      "cell_type": "code",
      "metadata": {
        "colab": {
          "base_uri": "https://localhost:8080/"
        },
        "id": "MJs7LATHzhZq",
        "outputId": "c8b72f0d-99b2-4a9d-d03a-1315744f7885"
      },
      "source": [
        "a"
      ],
      "execution_count": 3,
      "outputs": [
        {
          "output_type": "execute_result",
          "data": {
            "text/plain": [
              "array([[3.        , 3.        , 3.        , 3.        , 3.        ,\n",
              "        3.        ],\n",
              "       [3.        , 1.875     , 1.36363636, 1.07142857, 0.88235294,\n",
              "        0.75      ],\n",
              "       [3.        , 1.36363636, 0.88235294, 0.65217391, 0.51724138,\n",
              "        0.42857143],\n",
              "       [3.        , 1.07142857, 0.65217391, 0.46875   , 0.36585366,\n",
              "        0.3       ],\n",
              "       [3.        , 0.88235294, 0.51724138, 0.36585366, 0.28301887,\n",
              "        0.23076923],\n",
              "       [3.        , 0.75      , 0.42857143, 0.3       , 0.23076923,\n",
              "        0.1875    ]])"
            ]
          },
          "metadata": {
            "tags": []
          },
          "execution_count": 3
        }
      ]
    },
    {
      "cell_type": "code",
      "metadata": {
        "id": "siqi2RnZzn9x"
      },
      "source": [
        "# Tweak the printing of floating-point numbers, for clarity\n",
        "np.set_printoptions(precision=3)"
      ],
      "execution_count": 4,
      "outputs": []
    },
    {
      "cell_type": "code",
      "metadata": {
        "colab": {
          "base_uri": "https://localhost:8080/"
        },
        "id": "Y21gOqQ8zsqp",
        "outputId": "fe24b210-ba4a-457f-d684-4e68c72ccf08"
      },
      "source": [
        "L, u = diy_lu(a)\n",
        "\n",
        "print('L\\n', L, \"\\n\")\n",
        "print('U\\n', u, \"\\n\")\n",
        "\n",
        "# Quick sanity check: L times U must equal the original matrix, up to floating-point errors.\n",
        "print(L@u - a)"
      ],
      "execution_count": 5,
      "outputs": [
        {
          "output_type": "stream",
          "text": [
            "L \n",
            " [[1. 0. 0. 0. 0. 0.]\n",
            " [1. 1. 0. 0. 0. 0.]\n",
            " [1. 0. 1. 0. 0. 0.]\n",
            " [1. 0. 0. 1. 0. 0.]\n",
            " [1. 0. 0. 0. 1. 0.]\n",
            " [1. 0. 0. 0. 0. 1.]]\n",
            "U \n",
            " [[ 3.     3.     3.     3.     3.     3.   ]\n",
            " [ 0.    -1.125 -1.636 -1.929 -2.118 -2.25 ]\n",
            " [ 0.    -1.636 -2.118 -2.348 -2.483 -2.571]\n",
            " [ 0.    -1.929 -2.348 -2.531 -2.634 -2.7  ]\n",
            " [ 0.    -2.118 -2.483 -2.634 -2.717 -2.769]\n",
            " [ 0.    -2.25  -2.571 -2.7   -2.769 -2.812]]\n",
            "lam \n",
            " [[1. 0. 0. 0. 0. 0.]\n",
            " [1. 1. 0. 0. 0. 0.]\n",
            " [1. 0. 1. 0. 0. 0.]\n",
            " [1. 0. 0. 1. 0. 0.]\n",
            " [1. 0. 0. 0. 1. 0.]\n",
            " [1. 0. 0. 0. 0. 1.]]\n",
            "L \n",
            " [[1.    0.    0.    0.    0.    0.   ]\n",
            " [1.    1.    0.    0.    0.    0.   ]\n",
            " [1.    1.455 1.    0.    0.    0.   ]\n",
            " [1.    1.714 0.    1.    0.    0.   ]\n",
            " [1.    1.882 0.    0.    1.    0.   ]\n",
            " [1.    2.    0.    0.    0.    1.   ]]\n",
            "U \n",
            " [[ 3.000e+00  3.000e+00  3.000e+00  3.000e+00  3.000e+00  3.000e+00]\n",
            " [ 0.000e+00 -1.125e+00 -1.636e+00 -1.929e+00 -2.118e+00 -2.250e+00]\n",
            " [ 0.000e+00  0.000e+00  2.625e-01  4.574e-01  5.975e-01  7.013e-01]\n",
            " [ 0.000e+00  2.220e-16  4.574e-01  7.749e-01  9.961e-01  1.157e+00]\n",
            " [ 0.000e+00  0.000e+00  5.975e-01  9.961e-01  1.269e+00  1.466e+00]\n",
            " [ 0.000e+00  0.000e+00  7.013e-01  1.157e+00  1.466e+00  1.688e+00]]\n",
            "lam \n",
            " [[1.    0.    0.    0.    0.    0.   ]\n",
            " [0.    1.    0.    0.    0.    0.   ]\n",
            " [0.    1.455 1.    0.    0.    0.   ]\n",
            " [0.    1.714 0.    1.    0.    0.   ]\n",
            " [0.    1.882 0.    0.    1.    0.   ]\n",
            " [0.    2.    0.    0.    0.    1.   ]]\n",
            "L \n",
            " [[1.    0.    0.    0.    0.    0.   ]\n",
            " [1.    1.    0.    0.    0.    0.   ]\n",
            " [1.    1.455 1.    0.    0.    0.   ]\n",
            " [1.    1.714 1.742 1.    0.    0.   ]\n",
            " [1.    1.882 2.276 0.    1.    0.   ]\n",
            " [1.    2.    2.671 0.    0.    1.   ]]\n",
            "U \n",
            " [[ 3.000e+00  3.000e+00  3.000e+00  3.000e+00  3.000e+00  3.000e+00]\n",
            " [ 0.000e+00 -1.125e+00 -1.636e+00 -1.929e+00 -2.118e+00 -2.250e+00]\n",
            " [ 0.000e+00  0.000e+00  2.625e-01  4.574e-01  5.975e-01  7.013e-01]\n",
            " [ 0.000e+00  2.220e-16  0.000e+00 -2.197e-02 -4.480e-02 -6.469e-02]\n",
            " [ 0.000e+00  0.000e+00  0.000e+00 -4.480e-02 -9.055e-02 -1.300e-01]\n",
            " [ 0.000e+00  0.000e+00  0.000e+00 -6.469e-02 -1.300e-01 -1.860e-01]]\n",
            "lam \n",
            " [[1.    0.    0.    0.    0.    0.   ]\n",
            " [0.    1.    0.    0.    0.    0.   ]\n",
            " [0.    0.    1.    0.    0.    0.   ]\n",
            " [0.    0.    1.742 1.    0.    0.   ]\n",
            " [0.    0.    2.276 0.    1.    0.   ]\n",
            " [0.    0.    2.671 0.    0.    1.   ]]\n",
            "L \n",
            " [[1.    0.    0.    0.    0.    0.   ]\n",
            " [1.    1.    0.    0.    0.    0.   ]\n",
            " [1.    1.455 1.    0.    0.    0.   ]\n",
            " [1.    1.714 1.742 1.    0.    0.   ]\n",
            " [1.    1.882 2.276 2.039 1.    0.   ]\n",
            " [1.    2.    2.671 2.944 0.    1.   ]]\n",
            "U \n",
            " [[ 3.000e+00  3.000e+00  3.000e+00  3.000e+00  3.000e+00  3.000e+00]\n",
            " [ 0.000e+00 -1.125e+00 -1.636e+00 -1.929e+00 -2.118e+00 -2.250e+00]\n",
            " [ 0.000e+00  0.000e+00  2.625e-01  4.574e-01  5.975e-01  7.013e-01]\n",
            " [ 0.000e+00  2.220e-16  0.000e+00 -2.197e-02 -4.480e-02 -6.469e-02]\n",
            " [ 0.000e+00 -4.528e-16  0.000e+00  6.939e-18  8.080e-04  1.902e-03]\n",
            " [ 0.000e+00 -6.537e-16  0.000e+00  0.000e+00  1.902e-03  4.463e-03]]\n",
            "lam \n",
            " [[1.    0.    0.    0.    0.    0.   ]\n",
            " [0.    1.    0.    0.    0.    0.   ]\n",
            " [0.    0.    1.    0.    0.    0.   ]\n",
            " [0.    0.    0.    1.    0.    0.   ]\n",
            " [0.    0.    0.    2.039 1.    0.   ]\n",
            " [0.    0.    0.    2.944 0.    1.   ]]\n",
            "L \n",
            " [[1.    0.    0.    0.    0.    0.   ]\n",
            " [1.    1.    0.    0.    0.    0.   ]\n",
            " [1.    1.455 1.    0.    0.    0.   ]\n",
            " [1.    1.714 1.742 1.    0.    0.   ]\n",
            " [1.    1.882 2.276 2.039 1.    0.   ]\n",
            " [1.    2.    2.671 2.944 2.354 1.   ]]\n",
            "U \n",
            " [[ 3.000e+00  3.000e+00  3.000e+00  3.000e+00  3.000e+00  3.000e+00]\n",
            " [ 0.000e+00 -1.125e+00 -1.636e+00 -1.929e+00 -2.118e+00 -2.250e+00]\n",
            " [ 0.000e+00  0.000e+00  2.625e-01  4.574e-01  5.975e-01  7.013e-01]\n",
            " [ 0.000e+00  2.220e-16  0.000e+00 -2.197e-02 -4.480e-02 -6.469e-02]\n",
            " [ 0.000e+00 -4.528e-16  0.000e+00  6.939e-18  8.080e-04  1.902e-03]\n",
            " [ 0.000e+00  4.123e-16  0.000e+00 -1.634e-17  0.000e+00 -1.585e-05]]\n",
            "lam \n",
            " [[1.    0.    0.    0.    0.    0.   ]\n",
            " [0.    1.    0.    0.    0.    0.   ]\n",
            " [0.    0.    1.    0.    0.    0.   ]\n",
            " [0.    0.    0.    1.    0.    0.   ]\n",
            " [0.    0.    0.    0.    1.    0.   ]\n",
            " [0.    0.    0.    0.    2.354 1.   ]]\n",
            "L\n",
            " [[1.    0.    0.    0.    0.    0.   ]\n",
            " [1.    1.    0.    0.    0.    0.   ]\n",
            " [1.    1.455 1.    0.    0.    0.   ]\n",
            " [1.    1.714 1.742 1.    0.    0.   ]\n",
            " [1.    1.882 2.276 2.039 1.    0.   ]\n",
            " [1.    2.    2.671 2.944 2.354 1.   ]] \n",
            "\n",
            "U\n",
            " [[ 3.000e+00  3.000e+00  3.000e+00  3.000e+00  3.000e+00  3.000e+00]\n",
            " [ 0.000e+00 -1.125e+00 -1.636e+00 -1.929e+00 -2.118e+00 -2.250e+00]\n",
            " [ 0.000e+00  0.000e+00  2.625e-01  4.574e-01  5.975e-01  7.013e-01]\n",
            " [ 0.000e+00  2.220e-16  0.000e+00 -2.197e-02 -4.480e-02 -6.469e-02]\n",
            " [ 0.000e+00 -4.528e-16  0.000e+00  6.939e-18  8.080e-04  1.902e-03]\n",
            " [ 0.000e+00  4.123e-16  0.000e+00 -1.634e-17  0.000e+00 -1.585e-05]] \n",
            "\n",
            "[[ 0.000e+00  0.000e+00  0.000e+00  0.000e+00  0.000e+00  0.000e+00]\n",
            " [ 0.000e+00  0.000e+00  0.000e+00  0.000e+00  0.000e+00  0.000e+00]\n",
            " [ 0.000e+00  0.000e+00 -1.110e-16  1.110e-16  1.110e-16 -5.551e-17]\n",
            " [ 0.000e+00  0.000e+00  3.331e-16 -2.220e-16 -5.551e-17  0.000e+00]\n",
            " [ 0.000e+00  0.000e+00  0.000e+00 -1.110e-16 -1.665e-16  0.000e+00]\n",
            " [ 0.000e+00  0.000e+00 -1.110e-16 -2.776e-16  1.110e-16  1.110e-16]]\n"
          ],
          "name": "stdout"
        }
      ]
    },
    {
      "cell_type": "markdown",
      "metadata": {
        "id": "oSvHYsWuza06"
      },
      "source": [
        "# II. The need for pivoting"
      ]
    },
    {
      "cell_type": "markdown",
      "metadata": {
        "id": "B6z9Gausz4lS"
      },
      "source": [
        "Let's tweak the matrix a little bit, we only change a single element:"
      ]
    },
    {
      "cell_type": "code",
      "metadata": {
        "id": "tkGx4QSTzxOo"
      },
      "source": [
        "a1 = a.copy()\n",
        "a1[1, 1] = 3"
      ],
      "execution_count": 6,
      "outputs": []
    },
    {
      "cell_type": "code",
      "metadata": {
        "colab": {
          "base_uri": "https://localhost:8080/"
        },
        "id": "MiuSdcUcz_rK",
        "outputId": "334e818b-c3e0-47f3-8dac-e8daaef9cf64"
      },
      "source": [
        "np.linalg.matrix_rank(a1)"
      ],
      "execution_count": 7,
      "outputs": [
        {
          "output_type": "execute_result",
          "data": {
            "text/plain": [
              "6"
            ]
          },
          "metadata": {
            "tags": []
          },
          "execution_count": 7
        }
      ]
    },
    {
      "cell_type": "code",
      "metadata": {
        "colab": {
          "base_uri": "https://localhost:8080/"
        },
        "id": "NfvRXF3l0Czz",
        "outputId": "a961e145-5be6-4541-c6dc-0ce15043dfb1"
      },
      "source": [
        "l, u = diy_lu(a1)\n",
        "\n",
        "print(l, u)"
      ],
      "execution_count": 8,
      "outputs": [
        {
          "output_type": "stream",
          "text": [
            "L \n",
            " [[1. 0. 0. 0. 0. 0.]\n",
            " [1. 1. 0. 0. 0. 0.]\n",
            " [1. 0. 1. 0. 0. 0.]\n",
            " [1. 0. 0. 1. 0. 0.]\n",
            " [1. 0. 0. 0. 1. 0.]\n",
            " [1. 0. 0. 0. 0. 1.]]\n",
            "U \n",
            " [[ 3.     3.     3.     3.     3.     3.   ]\n",
            " [ 0.     0.    -1.636 -1.929 -2.118 -2.25 ]\n",
            " [ 0.    -1.636 -2.118 -2.348 -2.483 -2.571]\n",
            " [ 0.    -1.929 -2.348 -2.531 -2.634 -2.7  ]\n",
            " [ 0.    -2.118 -2.483 -2.634 -2.717 -2.769]\n",
            " [ 0.    -2.25  -2.571 -2.7   -2.769 -2.812]]\n",
            "lam \n",
            " [[1. 0. 0. 0. 0. 0.]\n",
            " [1. 1. 0. 0. 0. 0.]\n",
            " [1. 0. 1. 0. 0. 0.]\n",
            " [1. 0. 0. 1. 0. 0.]\n",
            " [1. 0. 0. 0. 1. 0.]\n",
            " [1. 0. 0. 0. 0. 1.]]\n",
            "L \n",
            " [[ 1. nan  0.  0.  0.  0.]\n",
            " [ 1. nan  0.  0.  0.  0.]\n",
            " [ 1. nan  1.  0.  0.  0.]\n",
            " [ 1. nan  0.  1.  0.  0.]\n",
            " [ 1. nan  0.  0.  1.  0.]\n",
            " [ 1. nan  0.  0.  0.  1.]]\n",
            "U \n",
            " [[ 3.     3.     3.     3.     3.     3.   ]\n",
            " [ 0.     0.    -1.636 -1.929 -2.118 -2.25 ]\n",
            " [   nan    nan   -inf   -inf   -inf   -inf]\n",
            " [   nan    nan   -inf   -inf   -inf   -inf]\n",
            " [   nan    nan   -inf   -inf   -inf   -inf]\n",
            " [   nan    nan   -inf   -inf   -inf   -inf]]\n",
            "lam \n",
            " [[  1.   0.   0.   0.   0.   0.]\n",
            " [  0.   1.   0.   0.   0.   0.]\n",
            " [  0. -inf   1.   0.   0.   0.]\n",
            " [  0. -inf   0.   1.   0.   0.]\n",
            " [  0. -inf   0.   0.   1.   0.]\n",
            " [  0. -inf   0.   0.   0.   1.]]\n",
            "L \n",
            " [[nan nan nan nan nan nan]\n",
            " [nan nan nan nan nan nan]\n",
            " [nan nan nan nan nan nan]\n",
            " [nan nan nan nan nan nan]\n",
            " [nan nan nan nan nan nan]\n",
            " [nan nan nan nan nan nan]]\n",
            "U \n",
            " [[nan nan nan nan nan nan]\n",
            " [nan nan nan nan nan nan]\n",
            " [nan nan nan nan nan nan]\n",
            " [nan nan nan nan nan nan]\n",
            " [nan nan nan nan nan nan]\n",
            " [nan nan nan nan nan nan]]\n",
            "lam \n",
            " [[ 1.  0.  0.  0.  0.  0.]\n",
            " [ 0.  1.  0.  0.  0.  0.]\n",
            " [ 0.  0.  1.  0.  0.  0.]\n",
            " [ 0.  0. nan  1.  0.  0.]\n",
            " [ 0.  0. nan  0.  1.  0.]\n",
            " [ 0.  0. nan  0.  0.  1.]]\n",
            "L \n",
            " [[nan nan nan nan nan nan]\n",
            " [nan nan nan nan nan nan]\n",
            " [nan nan nan nan nan nan]\n",
            " [nan nan nan nan nan nan]\n",
            " [nan nan nan nan nan nan]\n",
            " [nan nan nan nan nan nan]]\n",
            "U \n",
            " [[nan nan nan nan nan nan]\n",
            " [nan nan nan nan nan nan]\n",
            " [nan nan nan nan nan nan]\n",
            " [nan nan nan nan nan nan]\n",
            " [nan nan nan nan nan nan]\n",
            " [nan nan nan nan nan nan]]\n",
            "lam \n",
            " [[ 1.  0.  0.  0.  0.  0.]\n",
            " [ 0.  1.  0.  0.  0.  0.]\n",
            " [ 0.  0.  1.  0.  0.  0.]\n",
            " [ 0.  0.  0.  1.  0.  0.]\n",
            " [ 0.  0.  0. nan  1.  0.]\n",
            " [ 0.  0.  0. nan  0.  1.]]\n",
            "L \n",
            " [[nan nan nan nan nan nan]\n",
            " [nan nan nan nan nan nan]\n",
            " [nan nan nan nan nan nan]\n",
            " [nan nan nan nan nan nan]\n",
            " [nan nan nan nan nan nan]\n",
            " [nan nan nan nan nan nan]]\n",
            "U \n",
            " [[nan nan nan nan nan nan]\n",
            " [nan nan nan nan nan nan]\n",
            " [nan nan nan nan nan nan]\n",
            " [nan nan nan nan nan nan]\n",
            " [nan nan nan nan nan nan]\n",
            " [nan nan nan nan nan nan]]\n",
            "lam \n",
            " [[ 1.  0.  0.  0.  0.  0.]\n",
            " [ 0.  1.  0.  0.  0.  0.]\n",
            " [ 0.  0.  1.  0.  0.  0.]\n",
            " [ 0.  0.  0.  1.  0.  0.]\n",
            " [ 0.  0.  0.  0.  1.  0.]\n",
            " [ 0.  0.  0.  0. nan  1.]]\n",
            "[[nan nan nan nan nan nan]\n",
            " [nan nan nan nan nan nan]\n",
            " [nan nan nan nan nan nan]\n",
            " [nan nan nan nan nan nan]\n",
            " [nan nan nan nan nan nan]\n",
            " [nan nan nan nan nan nan]] [[nan nan nan nan nan nan]\n",
            " [nan nan nan nan nan nan]\n",
            " [nan nan nan nan nan nan]\n",
            " [nan nan nan nan nan nan]\n",
            " [nan nan nan nan nan nan]\n",
            " [nan nan nan nan nan nan]]\n"
          ],
          "name": "stdout"
        },
        {
          "output_type": "stream",
          "text": [
            "/usr/local/lib/python3.7/dist-packages/ipykernel_launcher.py:15: RuntimeWarning: divide by zero encountered in true_divide\n",
            "  from ipykernel import kernelapp as app\n",
            "/usr/local/lib/python3.7/dist-packages/ipykernel_launcher.py:17: RuntimeWarning: invalid value encountered in matmul\n",
            "/usr/local/lib/python3.7/dist-packages/ipykernel_launcher.py:20: RuntimeWarning: invalid value encountered in matmul\n",
            "/usr/local/lib/python3.7/dist-packages/ipykernel_launcher.py:15: RuntimeWarning: invalid value encountered in true_divide\n",
            "  from ipykernel import kernelapp as app\n"
          ],
          "name": "stderr"
        }
      ]
    },
    {
      "cell_type": "markdown",
      "metadata": {
        "id": "OqWxeK450I58"
      },
      "source": [
        "### Test II.1\n",
        "\n",
        "For a naive LU decomposition to work, all leading minors of a matrix should be non-zero. Check if this requirement is satisfied for the two matrices `a` and `a1`.\n",
        "\n",
        "(20% of the grade)"
      ]
    },
    {
      "cell_type": "code",
      "metadata": {
        "colab": {
          "base_uri": "https://localhost:8080/"
        },
        "id": "nrDIJAjl0H0d",
        "outputId": "3ece7008-61eb-4a69-d9da-12fbfe8a1c31"
      },
      "source": [
        "def leading_minors_test(A):\n",
        "   \"\"\"\n",
        "    Function to check all leading Minors of a Matrix not equal to 0\n",
        "   \"\"\"\n",
        "   # ... ENTER YOUR CODE HERE ...\n",
        "   #Si algun Menor principal es cero retornara Falso\n",
        "   for i in range(0, len(A)):\n",
        "     if (np.linalg.det(A[0:i, 0:i]) == 0):\n",
        "       return False\n",
        "   return True\n",
        "\n",
        "leading_minors_test(a), leading_minors_test(a1)"
      ],
      "execution_count": 9,
      "outputs": [
        {
          "output_type": "execute_result",
          "data": {
            "text/plain": [
              "(True, False)"
            ]
          },
          "metadata": {
            "tags": []
          },
          "execution_count": 9
        }
      ]
    },
    {
      "cell_type": "markdown",
      "metadata": {
        "id": "Qs8AJkWd0XXQ"
      },
      "source": [
        "### Test II.2\n",
        "\n",
        "Modify the `diy_lu` routine to implement column pivoting. Keep track of pivots, you can either construct a permutation matrix, or a swap array (your choice).\n",
        "\n",
        "(40% of the grade)\n",
        "\n",
        "Implement a function to reconstruct the original matrix from a decompositon. Test your routines on the matrices `a` and `a1`.\n",
        "\n",
        "(40% of the grade)"
      ]
    },
    {
      "cell_type": "markdown",
      "metadata": {
        "id": "tUb6w3y60eyP"
      },
      "source": [
        "# 2. $LU$ factorization column pivoting\n",
        "When we premultply $A$ by elementary permutation matricex$P_j$( to find a good pivot) and the premultply by lower triangular elemetary matrices $\\Lambda_j$  it is trasfrommed in an  upper triangular matrix $U$\n",
        "\n",
        "$$  \\Lambda_{n-1} P_{n-1} \\ldots \\Lambda_2 P_2 \\Lambda_1 P_1 A  = U$$\n",
        "$$  A  = (\\Lambda_{n-1} P_{n-1} \\ldots \\Lambda_2 P_2 \\Lambda_1 P_1)^{-1} U$$\n",
        "\n",
        "with\n",
        "\n",
        "\\begin{array}{ll}L  &=  (\\Lambda_{n-1} P_{n-1} \\ldots \\Lambda_2 P_2 \\Lambda_1 P_1)^{-1}\\\\\n",
        "&= P_1^{-1} \\Lambda_1^{-1} P_2^{-1} \\Lambda_2^{-1} \\ldots  P_{n-1}^{-1}\\\\\n",
        " &= P_1^{t} (-\\Lambda_1) P_2^{t} (-\\Lambda_2) \\ldots  P_{n-1}^{t} (-\\Lambda_{n-1})\n",
        "\\end{array}\n",
        "\n",
        "\n",
        "\n",
        "Because the inverse a of a Lower Triangular Elemetary Matrix is minus the matrix $\\Lambda_i^{-1} = - \\Lambda_i$ and the inverse of a Permutation Matrix (in particular an elementary permutation matrix)  is its transpose [math.stackexchange](\n",
        "        https://math.stackexchange.com/questions/98549/the-transpose-of-a-permutation-matrix-is-its-inverse#:~:text=Taking%20the%20transpose%20of%20P,Pt%3DP%E2%88%921.)  $P_i^{-1}=P_i^{t}$, so\n",
        "\n",
        "\n",
        "If we use \n",
        "$$  \\hat{L}  = (\\Lambda_{n-1}  \\ldots \\Lambda_2\\Lambda_1)^{-1}$$\n",
        "The inverse of a product of matrices is the revesre product of inverses \n",
        "$$ \\hat{L} = \\Lambda_1^{-1}\\Lambda_2^{-1} \\ldots  \\Lambda_{n-1}^{-1} $$\n",
        "the inverse a of a Lower Triangular Elemetary Matrix is minus the matrix $\\Lambda_i^{-1} = - \\Lambda_i$\n",
        "$$ \\hat{L} = (-\\Lambda_1)  (-\\Lambda_2) \\ldots  (-\\Lambda_{n-1}) $$\n",
        "\n",
        "Then\n",
        "$$    A_\\pi  = \\hat{L} U$$\n",
        "with $A_\\pi$ equal to $A$ with rows permutated acoording to some permutation $\\pi$\n",
        "\n",
        "Equiavlently \n",
        "$$   A  = (\\hat{L}U)_{\\pi'}$$\n",
        " $(\\hat{L}U)_{\\pi'}$ equal to $\\hat{L}U$ with rows permutated acoording to some permutation $\\pi'$"
      ]
    },
    {
      "cell_type": "code",
      "metadata": {
        "colab": {
          "base_uri": "https://localhost:8080/",
          "height": 52
        },
        "id": "-PlMujxx4gpa",
        "outputId": "4d085657-4848-43d7-ae6a-ff4c60a97532"
      },
      "source": [
        "\"\"\"Construct the LU decomposition of the input matrix.\n",
        "    \n",
        "    LU decomposition with pivot: work column by column, accumulate elementary triangular matrices L @ np.transpose(Pj) .\n",
        "    \"\"\""
      ],
      "execution_count": null,
      "outputs": [
        {
          "output_type": "execute_result",
          "data": {
            "application/vnd.google.colaboratory.intrinsic+json": {
              "type": "string"
            },
            "text/plain": [
              "'Construct the LU decomposition of the input matrix.\\n    \\n    LU decomposition with pivot: work column by column, accumulate elementary triangular matrices L @ np.transpose(Pj) .\\n    '"
            ]
          },
          "metadata": {
            "tags": []
          },
          "execution_count": 113
        }
      ]
    },
    {
      "cell_type": "code",
      "metadata": {
        "id": "N0jAwapO4IFA"
      },
      "source": [
        "def diy_lu_column_pivot(a):\n",
        "\n",
        "    N = a.shape[0]   \n",
        "\n",
        "    u = a.copy()\n",
        "    L = np.eye(N)\n",
        "    P = np.eye(N)\n",
        "\n",
        "    for j in range(N-1):\n",
        "      row = np.argmax(np.abs(u[j:, j])) + j\n",
        "      u[[j, row]] = u[[row, j]]\n",
        "\n",
        "      Lj = np.eye(N)\n",
        "      gamma = u[j+1:, j] / u[j, j]\n",
        "      Lj[j+1:, j] = - gamma\n",
        "      u = Lj @ u\n",
        "\n",
        "      Lj[j+1:, j] = gamma\n",
        "\n",
        "      L = L @ Lj\n",
        "\n",
        "      Pj = np.eye(N)\n",
        "      Pj[[j, row]] = Pj[[row, j]]\n",
        "      P = P @ np.transpose(Pj)\n",
        "\n",
        "    return L, u, P"
      ],
      "execution_count": 16,
      "outputs": []
    },
    {
      "cell_type": "code",
      "metadata": {
        "colab": {
          "base_uri": "https://localhost:8080/"
        },
        "id": "oCa4b90-0uD7",
        "outputId": "42f02ede-7076-4980-b2c0-3ca924b8526f"
      },
      "source": [
        "N = 6\n",
        "##a = np.zeros((N, N), dtype=float)\n",
        "##for i in range(N):\n",
        " ##   for j in range(N):\n",
        "  ##      a[i, j] = 3. / (0.6*i*j + 1)\n",
        "##\n",
        "a = [[3, 6, 8, 5, 8, 0],\n",
        "[1, 2, 9, 5, 9, 7],\n",
        "[4, 9, 7, 4, 1, 8],\n",
        "[1, 6, 2, 7, 2, 1],\n",
        "[0, 0, 4, 1, 3, 2],\n",
        "[4, 0, 2, 2, 7, 7]]\n",
        "a = np.array(a)\n",
        "L, u, P = diy_lu_column_pivot(a)\n",
        "\n",
        "print(\"L\\n\",L, \"\\n\")\n",
        "print(\"u\\n\",u, \"\\n\")\n",
        "print(\"L@u\\n\",L@u, \"\\n\")\n",
        "print(\"a\\n\",a, \"\\n\")\n",
        "print(\"P\\n\", P, \"\\n\")\n",
        "print(\"P@L@u\\n\", P@L@u, \"\\n\")\n",
        "print(\"a\\n\",a, \"\\n\")"
      ],
      "execution_count": 17,
      "outputs": [
        {
          "output_type": "stream",
          "text": [
            "L\n",
            " [[ 1.     0.     0.     0.     0.     0.   ]\n",
            " [ 0.25   1.     0.     0.     0.     0.   ]\n",
            " [ 0.75   0.083  1.     0.     0.     0.   ]\n",
            " [ 0.25  -0.417 -0.248  1.     0.     0.   ]\n",
            " [ 0.     0.     0.541 -0.194  1.     0.   ]\n",
            " [ 1.     0.028  0.429  0.069 -0.156  1.   ]] \n",
            "\n",
            "u\n",
            " [[ 4.000e+00  9.000e+00  7.000e+00  4.000e+00  1.000e+00  8.000e+00]\n",
            " [ 0.000e+00 -9.000e+00 -5.000e+00 -2.000e+00  6.000e+00 -1.000e+00]\n",
            " [ 0.000e+00  0.000e+00  7.389e+00  4.056e+00  8.583e+00  5.028e+00]\n",
            " [ 0.000e+00  0.000e+00  0.000e+00  6.173e+00  6.380e+00 -1.692e-01]\n",
            " [ 0.000e+00  0.000e+00  0.000e+00  5.551e-17  2.629e+00 -8.060e+00]\n",
            " [ 0.000e+00  0.000e+00  0.000e+00  8.682e-18  0.000e+00 -2.015e+00]] \n",
            "\n",
            "L@u\n",
            " [[ 4.     9.     7.     4.     1.     8.   ]\n",
            " [ 1.    -6.75  -3.25  -1.     6.25   1.   ]\n",
            " [ 3.     6.    12.222  6.889  9.833 10.944]\n",
            " [ 1.     6.     2.     7.     2.     1.   ]\n",
            " [ 0.     0.     4.     1.     6.04  -5.305]\n",
            " [ 4.     8.75  10.028  6.111  4.877  9.361]] \n",
            "\n",
            "a\n",
            " [[3 6 8 5 8 0]\n",
            " [1 2 9 5 9 7]\n",
            " [4 9 7 4 1 8]\n",
            " [1 6 2 7 2 1]\n",
            " [0 0 4 1 3 2]\n",
            " [4 0 2 2 7 7]] \n",
            "\n",
            "P\n",
            " [[0. 0. 0. 0. 1. 0.]\n",
            " [0. 0. 1. 0. 0. 0.]\n",
            " [1. 0. 0. 0. 0. 0.]\n",
            " [0. 0. 0. 1. 0. 0.]\n",
            " [0. 0. 0. 0. 0. 1.]\n",
            " [0. 1. 0. 0. 0. 0.]] \n",
            "\n",
            "P@L@u\n",
            " [[ 0.     0.     4.     1.     6.04  -5.305]\n",
            " [ 3.     6.    12.222  6.889  9.833 10.944]\n",
            " [ 4.     9.     7.     4.     1.     8.   ]\n",
            " [ 1.     6.     2.     7.     2.     1.   ]\n",
            " [ 4.     8.75  10.028  6.111  4.877  9.361]\n",
            " [ 1.    -6.75  -3.25  -1.     6.25   1.   ]] \n",
            "\n",
            "a\n",
            " [[3 6 8 5 8 0]\n",
            " [1 2 9 5 9 7]\n",
            " [4 9 7 4 1 8]\n",
            " [1 6 2 7 2 1]\n",
            " [0 0 4 1 3 2]\n",
            " [4 0 2 2 7 7]] \n",
            "\n"
          ],
          "name": "stdout"
        }
      ]
    },
    {
      "cell_type": "code",
      "metadata": {
        "colab": {
          "base_uri": "https://localhost:8080/"
        },
        "id": "473EfeLC0ztJ",
        "outputId": "d1cf5659-4ef7-4924-c3a4-c20899ece6b4"
      },
      "source": [
        "a1 = a.copy()\n",
        "a1[1, 1] = 3\n",
        "\n",
        "L, u , P = diy_lu_column_pivot(a1)\n",
        "\n",
        "\n",
        "print(\"L\\n\",L, \"\\n\")\n",
        "print(\"u\\n\",u, \"\\n\")\n",
        "print(\"L@u\\n\", L@u, \"\\n\")\n",
        "print(\"a\\n\",a, \"\\n\")\n",
        "print(\"P\\n\", P, \"\\n\")\n",
        "print(\"P@L@u\\n\", P@L@u, \"\\n\")\n",
        "print(\"a\\n\",a, \"\\n\")"
      ],
      "execution_count": 18,
      "outputs": [
        {
          "output_type": "stream",
          "text": [
            "L\n",
            " [[ 1.     0.     0.     0.     0.     0.   ]\n",
            " [ 0.25   1.     0.     0.     0.     0.   ]\n",
            " [ 0.75   0.083  1.     0.     0.     0.   ]\n",
            " [ 0.25  -0.417 -0.268  1.     0.     0.   ]\n",
            " [ 0.     0.     0.585 -0.201  1.     0.   ]\n",
            " [ 1.    -0.083  0.463  0.063 -0.521  1.   ]] \n",
            "\n",
            "u\n",
            " [[ 4.000e+00  9.000e+00  7.000e+00  4.000e+00  1.000e+00  8.000e+00]\n",
            " [ 0.000e+00 -9.000e+00 -5.000e+00 -2.000e+00  6.000e+00 -1.000e+00]\n",
            " [ 0.000e+00  0.000e+00  6.833e+00  3.833e+00  9.250e+00  4.917e+00]\n",
            " [ 0.000e+00  0.000e+00 -2.220e-16  6.195e+00  6.732e+00 -9.756e-02]\n",
            " [ 0.000e+00  0.000e+00  1.399e-17  0.000e+00  2.039e+00 -8.189e+00]\n",
            " [ 0.000e+00  0.000e+00 -3.729e-17  0.000e+00  0.000e+00 -5.166e+00]] \n",
            "\n",
            "L@u\n",
            " [[ 4.     9.     7.     4.     1.     8.   ]\n",
            " [ 1.    -6.75  -3.25  -1.     6.25   1.   ]\n",
            " [ 3.     6.    11.667  6.667 10.5   10.833]\n",
            " [ 1.     6.     2.     7.     2.     1.   ]\n",
            " [ 0.     0.     4.     1.     6.102 -5.291]\n",
            " [ 4.     9.75  10.583  6.333  4.148  9.458]] \n",
            "\n",
            "a\n",
            " [[3 6 8 5 8 0]\n",
            " [1 2 9 5 9 7]\n",
            " [4 9 7 4 1 8]\n",
            " [1 6 2 7 2 1]\n",
            " [0 0 4 1 3 2]\n",
            " [4 0 2 2 7 7]] \n",
            "\n",
            "P\n",
            " [[0. 0. 0. 0. 1. 0.]\n",
            " [0. 0. 1. 0. 0. 0.]\n",
            " [1. 0. 0. 0. 0. 0.]\n",
            " [0. 0. 0. 1. 0. 0.]\n",
            " [0. 0. 0. 0. 0. 1.]\n",
            " [0. 1. 0. 0. 0. 0.]] \n",
            "\n",
            "P@L@u\n",
            " [[ 0.     0.     4.     1.     6.102 -5.291]\n",
            " [ 3.     6.    11.667  6.667 10.5   10.833]\n",
            " [ 4.     9.     7.     4.     1.     8.   ]\n",
            " [ 1.     6.     2.     7.     2.     1.   ]\n",
            " [ 4.     9.75  10.583  6.333  4.148  9.458]\n",
            " [ 1.    -6.75  -3.25  -1.     6.25   1.   ]] \n",
            "\n",
            "a\n",
            " [[3 6 8 5 8 0]\n",
            " [1 2 9 5 9 7]\n",
            " [4 9 7 4 1 8]\n",
            " [1 6 2 7 2 1]\n",
            " [0 0 4 1 3 2]\n",
            " [4 0 2 2 7 7]] \n",
            "\n"
          ],
          "name": "stdout"
        }
      ]
    },
    {
      "cell_type": "code",
      "metadata": {
        "colab": {
          "base_uri": "https://localhost:8080/"
        },
        "id": "yafNw7uY04At",
        "outputId": "8f53b8b5-b554-4b31-eeba-ef3dfe780826"
      },
      "source": [
        "a2 = np.array([[4,3,1], [5,7,0], [9,9,3], [8,2,4]])\n",
        "\n",
        "L, u, P = diy_lu_column_pivot(a2)\n",
        "\n",
        "print(\"L\\n\",L, \"\\n\")\n",
        "print(\"u\\n\",u, \"\\n\")\n",
        "print(\"L@u\\n\", L@u, \"\\n\")\n",
        "print(\"a\\n\",a, \"\\n\")\n",
        "print(\"P\\n\", P, \"\\n\")\n",
        "print(\"P@L@u\\n\", P@L@u, \"\\n\")\n",
        "print(\"a\\n\",a, \"\\n\")"
      ],
      "execution_count": 19,
      "outputs": [
        {
          "output_type": "stream",
          "text": [
            "L\n",
            " [[ 1.     0.     0.     0.   ]\n",
            " [ 0.556  1.     0.     0.   ]\n",
            " [ 0.444  0.167  1.     0.   ]\n",
            " [ 0.889 -0.333  0.455  1.   ]] \n",
            "\n",
            "u\n",
            " [[ 9.     9.     3.   ]\n",
            " [ 0.    -6.     1.333]\n",
            " [ 0.     0.    -1.222]\n",
            " [ 0.     0.     0.   ]] \n",
            "\n",
            "L@u\n",
            " [[ 9.     9.     3.   ]\n",
            " [ 5.    -1.     3.   ]\n",
            " [ 4.     3.     0.333]\n",
            " [ 8.    10.     1.667]] \n",
            "\n",
            "a\n",
            " [[3 6 8 5 8 0]\n",
            " [1 2 9 5 9 7]\n",
            " [4 9 7 4 1 8]\n",
            " [1 6 2 7 2 1]\n",
            " [0 0 4 1 3 2]\n",
            " [4 0 2 2 7 7]] \n",
            "\n",
            "P\n",
            " [[0. 0. 0. 1.]\n",
            " [0. 0. 1. 0.]\n",
            " [1. 0. 0. 0.]\n",
            " [0. 1. 0. 0.]] \n",
            "\n",
            "P@L@u\n",
            " [[ 8.    10.     1.667]\n",
            " [ 4.     3.     0.333]\n",
            " [ 9.     9.     3.   ]\n",
            " [ 5.    -1.     3.   ]] \n",
            "\n",
            "a\n",
            " [[3 6 8 5 8 0]\n",
            " [1 2 9 5 9 7]\n",
            " [4 9 7 4 1 8]\n",
            " [1 6 2 7 2 1]\n",
            " [0 0 4 1 3 2]\n",
            " [4 0 2 2 7 7]] \n",
            "\n"
          ],
          "name": "stdout"
        }
      ]
    },
    {
      "cell_type": "markdown",
      "metadata": {
        "id": "h1F1gBbj08Py"
      },
      "source": [
        "# 3. $LU$ factorization column pivoting and reconstruction\n",
        "When we premultply $A$ by elementary permutation matricex$P_j$( to find a good pivot) and the premultply by lower triangular elemetary matrices $\\Lambda_j$  it is trasfrommed in an  upper triangular matrix $U$\n",
        "\n",
        "$$  \\Lambda_{n-1} P_{n-1} \\ldots \\Lambda_2 P_2 \\Lambda_1 P_1 A  = U$$\n",
        "$$  A  = (\\Lambda_{n-1} P_{n-1} \\ldots \\Lambda_2 P_2 \\Lambda_1 P_1)^{-1} U$$\n",
        "$$  A  = (\\Lambda_{n-1} P_{n-1} \\ldots \\Lambda_2 P_2 \\Lambda_1 P_1)^{-1} U$$\n",
        "\n",
        "The inverse of a product of matrices is the revesre product of inverses \n",
        "$$  A  = ( P_1^{-1} \\Lambda_1^{-1} P_2^{-1} \\Lambda_2^{-1} \\ldots  P_{n-1}^{-1}\\Lambda_{n-1}^{-1} ) U$$\n",
        "\n",
        "So the $LU$ column pivot factorization is \n",
        "$$  A  = L U$$\n",
        "with\n",
        "$$ U = \\Lambda_{n-1} P_{n-1} \\ldots \\Lambda_2 P_2 \\Lambda_1 P_1 A  $$\n",
        "\n",
        "\n",
        "\n",
        "$$ L  = P_1^{-1} \\Lambda_1^{-1} P_2^{-1} \\Lambda_2^{-1} \\ldots  P_{n-1}^{-1}\\Lambda_{n-1}^{-1} $$\n",
        "\n",
        "the inverse a of a Lower Triangular Elemetary Matrix is minus the matrix $\\Lambda_i^{-1} = - \\Lambda_i$ and the inverse of a Permutation Matrix (in particular an elementary permutation matrix)  is its transpose [math.stackexchange](\n",
        "        https://math.stackexchange.com/questions/98549/the-transpose-of-a-permutation-matrix-is-its-inverse#:~:text=Taking%20the%20transpose%20of%20P,Pt%3DP%E2%88%921.)  $P_i^{-1}=P_i^{t}$, so\n",
        "\n",
        "$$ L  =  P_1^{t} (-\\Lambda_1) P_2^{t} (-\\Lambda_2) \\ldots  P_{n-1}^{t} (-\\Lambda_{n-1}) $$\n"
      ]
    },
    {
      "cell_type": "code",
      "metadata": {
        "id": "16uuRFJu09YM"
      },
      "source": [
        "def diy_lu_column_pivot_reconstruct(a):\n",
        "\n",
        "    N = a.shape[0]   \n",
        "\n",
        "    u = a.copy()\n",
        "    L = np.eye(N)\n",
        "    P = np.eye(N)\n",
        "\n",
        "    for j in range(N-1):\n",
        "      row = np.argmax(np.abs(u[j:, j])) + j\n",
        "      u[[j, row]] = u[[row, j]]\n",
        "\n",
        "      Pj = np.eye(N)\n",
        "      Pj[[j, row]] = Pj[[row, j]]\n",
        "\n",
        "      Lj = np.eye(N)\n",
        "      gamma = u[j+1:, j] / u[j, j]\n",
        "      Lj[j+1:, j] = - gamma\n",
        "      u = Lj @ u\n",
        "\n",
        "      Lj[j+1:, j] = gamma\n",
        "\n",
        "      L = L @ np.transpose(Pj) @ Lj\n",
        "\n",
        "\n",
        "    return L, u"
      ],
      "execution_count": 22,
      "outputs": []
    },
    {
      "cell_type": "code",
      "metadata": {
        "colab": {
          "base_uri": "https://localhost:8080/"
        },
        "id": "XIpfRzl21IDH",
        "outputId": "5cc3dfc0-d8ec-48c2-f03a-620e2f618a5c"
      },
      "source": [
        "N = 6\n",
        "a = np.zeros((N, N), dtype=float)\n",
        "for i in range(N):\n",
        "    for j in range(N):\n",
        "        a[i, j] = 3. / (0.6*i*j + 1)\n",
        "\n",
        "L, u = diy_lu_column_pivot_reconstruct(a)\n",
        "\n",
        "print(\"L\\n\",L, \"\\n\")\n",
        "print(\"u\\n\",u, \"\\n\")\n",
        "print(\"L@u\\n\", L@u, \"\\n\")\n",
        "print(\"a\\n\",a, \"\\n\")"
      ],
      "execution_count": 27,
      "outputs": [
        {
          "output_type": "stream",
          "text": [
            "L\n",
            " [[1.    0.    0.    0.    0.    0.   ]\n",
            " [1.    0.5   1.    0.    0.    0.   ]\n",
            " [1.    0.727 0.706 1.    0.    0.   ]\n",
            " [1.    0.857 0.41  0.835 1.    0.   ]\n",
            " [1.    0.941 0.178 0.426 0.789 1.   ]\n",
            " [1.    1.    0.    0.    0.    0.   ]] \n",
            "\n",
            "u\n",
            " [[ 3.000e+00  3.000e+00  3.000e+00  3.000e+00  3.000e+00  3.000e+00]\n",
            " [ 0.000e+00 -2.250e+00 -2.571e+00 -2.700e+00 -2.769e+00 -2.812e+00]\n",
            " [ 0.000e+00  0.000e+00 -3.506e-01 -5.786e-01 -7.330e-01 -8.438e-01]\n",
            " [ 0.000e+00  0.000e+00  2.776e-17  2.421e-02  4.866e-02  6.961e-02]\n",
            " [ 0.000e+00  2.220e-16 -2.317e-17  0.000e+00 -6.462e-04 -1.516e-03]\n",
            " [ 0.000e+00 -1.751e-16  6.463e-18  0.000e+00  0.000e+00  6.730e-06]] \n",
            "\n",
            "L@u\n",
            " [[3.    3.    3.    3.    3.    3.   ]\n",
            " [3.    1.875 1.364 1.071 0.882 0.75 ]\n",
            " [3.    1.364 0.882 0.652 0.517 0.429]\n",
            " [3.    1.071 0.652 0.469 0.366 0.3  ]\n",
            " [3.    0.882 0.517 0.366 0.283 0.231]\n",
            " [3.    0.75  0.429 0.3   0.231 0.188]] \n",
            "\n",
            "a\n",
            " [[3.    3.    3.    3.    3.    3.   ]\n",
            " [3.    1.875 1.364 1.071 0.882 0.75 ]\n",
            " [3.    1.364 0.882 0.652 0.517 0.429]\n",
            " [3.    1.071 0.652 0.469 0.366 0.3  ]\n",
            " [3.    0.882 0.517 0.366 0.283 0.231]\n",
            " [3.    0.75  0.429 0.3   0.231 0.188]] \n",
            "\n"
          ],
          "name": "stdout"
        }
      ]
    },
    {
      "cell_type": "code",
      "metadata": {
        "id": "Ea5i2TSF1RPx",
        "colab": {
          "base_uri": "https://localhost:8080/"
        },
        "outputId": "ecdb67e6-564d-484d-c71e-ed26605cb9fb"
      },
      "source": [
        "a1 = a.copy()\n",
        "a1[1, 1] = 3\n",
        "\n",
        "L, u = diy_lu_column_pivot_reconstruct(a1)\n",
        "\n",
        "print(\"L\\n\",L, \"\\n\")\n",
        "print(\"u\\n\",u, \"\\n\")\n",
        "print(\"L@u\\n\", L@u, \"\\n\")\n",
        "print(\"a2\\n\",a1, \"\\n\")\n",
        "\n",
        "# Quick sanity check: L times U must equal the original matrix, up to floating-point errors.\n",
        "print(\"L@u - a1\\n\",L@u - a1, \"\\n\")"
      ],
      "execution_count": 24,
      "outputs": [
        {
          "output_type": "stream",
          "text": [
            "L\n",
            " [[1.    0.    0.    0.    0.    0.   ]\n",
            " [1.    0.    1.    0.    0.    0.   ]\n",
            " [1.    0.727 0.151 1.    0.    0.   ]\n",
            " [1.    0.857 0.088 0.514 1.    0.   ]\n",
            " [1.    0.941 0.038 0.208 0.641 1.   ]\n",
            " [1.    1.    0.    0.    0.    0.   ]] \n",
            "\n",
            "u\n",
            " [[ 3.000e+00  3.000e+00  3.000e+00  3.000e+00  3.000e+00  3.000e+00]\n",
            " [ 0.000e+00 -2.250e+00 -2.571e+00 -2.700e+00 -2.769e+00 -2.812e+00]\n",
            " [ 0.000e+00  0.000e+00 -1.636e+00 -1.929e+00 -2.118e+00 -2.250e+00]\n",
            " [ 0.000e+00  0.000e+00  2.776e-17 -9.247e-02 -1.485e-01 -1.856e-01]\n",
            " [ 0.000e+00  2.220e-16 -1.427e-17  0.000e+00  1.841e-03  3.821e-03]\n",
            " [ 0.000e+00 -1.424e-16  3.391e-18  0.000e+00  0.000e+00 -1.233e-05]] \n",
            "\n",
            "L@u\n",
            " [[3.    3.    3.    3.    3.    3.   ]\n",
            " [3.    3.    1.364 1.071 0.882 0.75 ]\n",
            " [3.    1.364 0.882 0.652 0.517 0.429]\n",
            " [3.    1.071 0.652 0.469 0.366 0.3  ]\n",
            " [3.    0.882 0.517 0.366 0.283 0.231]\n",
            " [3.    0.75  0.429 0.3   0.231 0.188]] \n",
            "\n",
            "a2\n",
            " [[3.    3.    3.    3.    3.    3.   ]\n",
            " [3.    3.    1.364 1.071 0.882 0.75 ]\n",
            " [3.    1.364 0.882 0.652 0.517 0.429]\n",
            " [3.    1.071 0.652 0.469 0.366 0.3  ]\n",
            " [3.    0.882 0.517 0.366 0.283 0.231]\n",
            " [3.    0.75  0.429 0.3   0.231 0.188]] \n",
            "\n",
            "L@u - a1\n",
            " [[ 0.000e+00  0.000e+00  0.000e+00  0.000e+00  0.000e+00  0.000e+00]\n",
            " [ 0.000e+00  0.000e+00  0.000e+00  0.000e+00  0.000e+00  0.000e+00]\n",
            " [ 0.000e+00  0.000e+00  0.000e+00  2.220e-16  1.110e-16 -2.776e-16]\n",
            " [ 0.000e+00  0.000e+00  1.110e-16 -1.665e-16 -2.776e-16 -5.551e-17]\n",
            " [ 0.000e+00  0.000e+00  0.000e+00  0.000e+00  3.331e-16 -2.776e-17]\n",
            " [ 0.000e+00  0.000e+00 -1.665e-16 -1.665e-16  5.551e-17  0.000e+00]] \n",
            "\n"
          ],
          "name": "stdout"
        }
      ]
    },
    {
      "cell_type": "code",
      "metadata": {
        "id": "fhVlk2aj1Ux5",
        "colab": {
          "base_uri": "https://localhost:8080/"
        },
        "outputId": "0be7e917-a0f9-4710-967e-cf0c9a0167c8"
      },
      "source": [
        "a2 = np.array([[4,3,1], [5,7,0], [9,9,3], [8,2,4]])\n",
        "\n",
        "L, u = diy_lu_column_pivot_reconstruct(a2)\n",
        "\n",
        "print(\"L\\n\",L, \"\\n\")\n",
        "print(\"u\\n\",u, \"\\n\")\n",
        "print(\"L@u\\n\", L@u, \"\\n\")\n",
        "print(\"a2\\n\",a2, \"\\n\")\n",
        "\n",
        "# Quick sanity check: L times U must equal the original matrix, up to floating-point errors.\n",
        "print(\"L@u - a2\\n\",L@u - a2, \"\\n\")"
      ],
      "execution_count": 25,
      "outputs": [
        {
          "output_type": "stream",
          "text": [
            "L\n",
            " [[ 0.444  0.167  0.455  1.   ]\n",
            " [ 0.556 -0.333  1.     0.   ]\n",
            " [ 1.     0.     0.     0.   ]\n",
            " [ 0.889  1.     0.     0.   ]] \n",
            "\n",
            "u\n",
            " [[ 9.     9.     3.   ]\n",
            " [ 0.    -6.     1.333]\n",
            " [ 0.     0.    -1.222]\n",
            " [ 0.     0.     0.   ]] \n",
            "\n",
            "L@u\n",
            " [[4. 3. 1.]\n",
            " [5. 7. 0.]\n",
            " [9. 9. 3.]\n",
            " [8. 2. 4.]] \n",
            "\n",
            "a2\n",
            " [[4 3 1]\n",
            " [5 7 0]\n",
            " [9 9 3]\n",
            " [8 2 4]] \n",
            "\n",
            "L@u - a2\n",
            " [[0.00e+00 0.00e+00 2.22e-16]\n",
            " [0.00e+00 0.00e+00 0.00e+00]\n",
            " [0.00e+00 0.00e+00 0.00e+00]\n",
            " [0.00e+00 0.00e+00 0.00e+00]] \n",
            "\n"
          ],
          "name": "stdout"
        }
      ]
    }
  ]
}