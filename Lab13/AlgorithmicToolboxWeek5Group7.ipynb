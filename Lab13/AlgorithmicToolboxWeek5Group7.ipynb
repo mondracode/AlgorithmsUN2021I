{
  "nbformat": 4,
  "nbformat_minor": 0,
  "metadata": {
    "colab": {
      "name": "AlgorithmicToolboxWeek5Group7",
      "provenance": [],
      "collapsed_sections": []
    },
    "kernelspec": {
      "name": "python3",
      "display_name": "Python 3"
    },
    "language_info": {
      "name": "python"
    }
  },
  "cells": [
    {
      "cell_type": "markdown",
      "metadata": {
        "id": "L1gja3uxRcWz"
      },
      "source": [
        "\n",
        "#Money Change Again"
      ]
    },
    {
      "cell_type": "code",
      "metadata": {
        "id": "-D7iq5MiRYxp"
      },
      "source": [
        "# Uses python3\n",
        "import sys\n",
        "\n",
        "\n",
        "def get_change(m):\n",
        "    # write your code here\n",
        "    if m == 2:\n",
        "        return 2\n",
        "\n",
        "    money = m % 4\n",
        "\n",
        "    if money == 0:\n",
        "        return m // 4\n",
        "\n",
        "    return (m // 4) + 1\n",
        "\n",
        "\n",
        "if __name__ == '__main__':\n",
        "    m = int(sys.stdin.read())\n",
        "    print(get_change(m))"
      ],
      "execution_count": null,
      "outputs": []
    },
    {
      "cell_type": "markdown",
      "metadata": {
        "id": "pVnZjqprRj65"
      },
      "source": [
        "#Primitive Calculator"
      ]
    },
    {
      "cell_type": "code",
      "metadata": {
        "id": "Qi1l4epSRbUd"
      },
      "source": [
        "# Uses python3\n",
        "import sys\n",
        "\n",
        "\n",
        "def optimal_sequence(n):\n",
        "    values = [0] * (n + 1)\n",
        "    values[1] = 1\n",
        "\n",
        "    for i in range(2, n + 1):\n",
        "        index = [i - 1]\n",
        "\n",
        "        if i % 3 == 0:\n",
        "            index.append(i // 3)\n",
        "        if i % 2 == 0:\n",
        "            index.append(i // 2)\n",
        "\n",
        "        min_val = min([values[x]for x in index])\n",
        "        values[i] = min_val + 1\n",
        "\n",
        "    aux = n\n",
        "    optimal_sequence = [aux]\n",
        "\n",
        "    while aux != 1:\n",
        "        possible = [aux - 1]\n",
        "        if aux % 3 == 0:\n",
        "            possible.append(aux // 3)\n",
        "        if aux % 2 == 0:\n",
        "            possible.append(aux // 2)\n",
        "\n",
        "        aux = min([(v2, values[v2]) for v2 in possible], key=lambda x: x[1])[0]\n",
        "\n",
        "        optimal_sequence.append(aux)\n",
        "\n",
        "    return reversed(optimal_sequence)\n",
        "\n",
        "\n",
        "input = sys.stdin.read()\n",
        "n = int(input)\n",
        "sequence = list(optimal_sequence(n))\n",
        "print(len(sequence) - 1)\n",
        "for x in sequence:\n",
        "    print(x, end=' ')"
      ],
      "execution_count": null,
      "outputs": []
    },
    {
      "cell_type": "markdown",
      "metadata": {
        "id": "YDnwjA70Rv6B"
      },
      "source": [
        "#Edit distance"
      ]
    },
    {
      "cell_type": "code",
      "metadata": {
        "id": "g6Z9yxyqR_zT"
      },
      "source": [
        "def edit_distance(s, t):\n",
        "    dis_s = len(s) + 1\n",
        "    dis_t = len(t) + 1\n",
        "\n",
        "    distance = [[x] + [0] * (dis_t - 1) for x in range(dis_s)]\n",
        "    distance[0] = [x for x in range(dis_t)]\n",
        "\n",
        "    for i in range(1, dis_s):\n",
        "        for j in range(1, dis_t):\n",
        "\n",
        "            if s[i - 1] == t[j - 1]:\n",
        "                distance[i][j] = distance[i - 1][j - 1]\n",
        "            else:\n",
        "                distance[i][j] = min(\n",
        "                    distance[i][j - 1], distance[i - 1][j], distance[i - 1][j - 1]) + 1\n",
        "\n",
        "    return distance[-1][-1]\n",
        "\n",
        "\n",
        "if __name__ == \"__main__\":\n",
        "    print(edit_distance(input(), input()))"
      ],
      "execution_count": null,
      "outputs": []
    },
    {
      "cell_type": "markdown",
      "metadata": {
        "id": "s-KmKEzhShmt"
      },
      "source": [
        "#Santiago Mondragón Gómez\n",
        "\n",
        "![](https://imgur.com/fztaFGy.png)"
      ]
    }
  ]
}