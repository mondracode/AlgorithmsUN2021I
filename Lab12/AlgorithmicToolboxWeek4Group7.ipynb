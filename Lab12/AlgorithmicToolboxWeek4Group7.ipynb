{
  "nbformat": 4,
  "nbformat_minor": 0,
  "metadata": {
    "colab": {
      "name": "AlgorithmicToolboxWeek4Group7.ipynb",
      "provenance": [],
      "collapsed_sections": []
    },
    "kernelspec": {
      "name": "python3",
      "display_name": "Python 3"
    },
    "language_info": {
      "name": "python"
    }
  },
  "cells": [
    {
      "cell_type": "markdown",
      "metadata": {
        "id": "L1gja3uxRcWz"
      },
      "source": [
        "#Binary Search"
      ]
    },
    {
      "cell_type": "code",
      "metadata": {
        "id": "-D7iq5MiRYxp"
      },
      "source": [
        "def linear_search(keys, query):\n",
        "    for i in range(len(keys)):\n",
        "        if keys[i] == query:\n",
        "            return i\n",
        "\n",
        "    return -1\n",
        "\n",
        "\n",
        "def binary_search(keys, query, high, low):\n",
        "    if high <= low:\n",
        "        if keys[low] == query:\n",
        "            return low\n",
        "        return -1\n",
        "\n",
        "    mid = (high + low) // 2\n",
        "\n",
        "    if keys[mid] == query:\n",
        "        return mid\n",
        "    elif keys[mid] > query:\n",
        "        return binary_search(keys, query, mid - 1, low)\n",
        "    else:\n",
        "        return binary_search(keys, query, high, mid + 1)\n",
        "\n",
        "\n",
        "if __name__ == '__main__':\n",
        "    input_keys = list(map(int, input().split()))[1:]\n",
        "    input_queries = list(map(int, input().split()))[1:]\n",
        "    high, low = len(input_keys)-1, 0\n",
        "\n",
        "    for q in input_queries:\n",
        "        print(binary_search(input_keys, q, high, low), end=' ')"
      ],
      "execution_count": null,
      "outputs": []
    },
    {
      "cell_type": "markdown",
      "metadata": {
        "id": "pVnZjqprRj65"
      },
      "source": [
        "#Majority Element"
      ]
    },
    {
      "cell_type": "code",
      "metadata": {
        "id": "Qi1l4epSRbUd"
      },
      "source": [
        "import sys\n",
        "\n",
        "\n",
        "def get_majority_element(a, left, right):\n",
        "    if left == right:\n",
        "        return -1\n",
        "    if left + 1 == right:\n",
        "        return a[left]\n",
        "\n",
        "    left_elem = get_majority_element(a, left, (left + right - 1) // 2 + 1)\n",
        "    right_elem = get_majority_element(a, (left + right - 1) // 2 + 1, right)\n",
        "\n",
        "    lcount = 0\n",
        "    for i in range(left, right):\n",
        "        if a[i] == left_elem:\n",
        "            lcount += 1\n",
        "    if lcount > (right - left) // 2:\n",
        "        return left_elem\n",
        "\n",
        "    rcount = 0\n",
        "    for i in range(left, right):\n",
        "        if a[i] == right_elem:\n",
        "            rcount += 1\n",
        "    if rcount > (right - left) // 2:\n",
        "        return right_elem\n",
        "\n",
        "    return -1\n",
        "\n",
        "\n",
        "if __name__ == '__main__':\n",
        "    input = sys.stdin.read()\n",
        "    n, *a = list(map(int, input.split()))\n",
        "    if get_majority_element(a, 0, n) != -1:\n",
        "        print(1)\n",
        "    else:\n",
        "        print(0)"
      ],
      "execution_count": null,
      "outputs": []
    },
    {
      "cell_type": "markdown",
      "metadata": {
        "id": "YDnwjA70Rv6B"
      },
      "source": [
        "#Inversions"
      ]
    },
    {
      "cell_type": "code",
      "metadata": {
        "id": "g6Z9yxyqR_zT"
      },
      "source": [
        "import sys\n",
        "\n",
        "\n",
        "def merge(b, c):\n",
        "    result = []\n",
        "    inversions = 0\n",
        "    while b and c:\n",
        "        if b[0] <= c[0]:\n",
        "            result.append(b.pop(0))\n",
        "        else:\n",
        "            result.append(c.pop(0))\n",
        "            inversions += len(b)\n",
        "\n",
        "    result += b or c\n",
        "    return result, inversions\n",
        "\n",
        "\n",
        "def merge_sort(a):\n",
        "    if len(a) == 1:\n",
        "        return a, 0\n",
        "\n",
        "    mid = len(a) // 2\n",
        "    left, left_inv = merge_sort(a[:mid])\n",
        "    right, right_inv = merge_sort(a[mid:])\n",
        "\n",
        "    merged, merged_inv = merge(left, right)\n",
        "    return merged, merged_inv + left_inv + right_inv\n",
        "\n",
        "\n",
        "if __name__ == \"__main__\":\n",
        "    input = sys.stdin.read()\n",
        "    n, *a = list(map(int, input.split()))\n",
        "    print(merge_sort(a)[1])"
      ],
      "execution_count": null,
      "outputs": []
    },
    {
      "cell_type": "markdown",
      "metadata": {
        "id": "s-KmKEzhShmt"
      },
      "source": [
        "#Santiago Mondragón Gómez\n",
        "\n",
        "![](https://i.imgur.com/2OESVTF.png)"
      ]
    }
  ]
}