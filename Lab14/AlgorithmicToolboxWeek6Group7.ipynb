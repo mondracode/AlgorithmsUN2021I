{
  "nbformat": 4,
  "nbformat_minor": 0,
  "metadata": {
    "colab": {
      "name": "AlgorithmicToolboxWeek6Group7",
      "provenance": [],
      "collapsed_sections": []
    },
    "kernelspec": {
      "name": "python3",
      "display_name": "Python 3"
    },
    "language_info": {
      "name": "python"
    }
  },
  "cells": [
    {
      "cell_type": "markdown",
      "metadata": {
        "id": "L1gja3uxRcWz"
      },
      "source": [
        "\n",
        "#Maximum amount of gold\n"
      ]
    },
    {
      "cell_type": "code",
      "metadata": {
        "id": "-D7iq5MiRYxp"
      },
      "source": [
        "# Uses python3\n",
        "import sys\n",
        "\n",
        "\n",
        "def optimal_weight(W, w):\n",
        "    w = [0] + w\n",
        "    items = len(w)\n",
        "    capacity = W + 1\n",
        "\n",
        "    weights = [[0 for _ in range(items)] for _ in range(capacity)]\n",
        "\n",
        "    for i in range(1, items):\n",
        "        for j in range(1, capacity):\n",
        "            weights[j][i] = weights[j][i - 1]\n",
        "            if w[i] <= j:\n",
        "                val = weights[j - w[i]][i - 1] + w[i]\n",
        "                if weights[j][i] < val:\n",
        "                    weights[j][i] = val\n",
        "\n",
        "    return weights[-1][-1]\n",
        "\n",
        "\n",
        "if __name__ == '__main__':\n",
        "    input = sys.stdin.read()\n",
        "    W, n, *w = list(map(int, input.split()))\n",
        "    print(optimal_weight(W, w))"
      ],
      "execution_count": null,
      "outputs": []
    },
    {
      "cell_type": "markdown",
      "metadata": {
        "id": "pVnZjqprRj65"
      },
      "source": [
        "#Maximum Value of an Arithmetic Expression"
      ]
    },
    {
      "cell_type": "code",
      "metadata": {
        "id": "Qi1l4epSRbUd"
      },
      "source": [
        "# Uses python3\n",
        "def evalt(a, b, op):\n",
        "    if op == '+':\n",
        "        return a + b\n",
        "    elif op == '-':\n",
        "        return a - b\n",
        "    elif op == '*':\n",
        "        return a * b\n",
        "    else:\n",
        "        assert False\n",
        "\n",
        "\n",
        "def MinAndMax(i, j, M, m, dataset):\n",
        "    n_min = float(\"inf\")\n",
        "    n_max = -float(\"inf\")\n",
        "    for k in range(i, j):\n",
        "        a = evalt(M[i][k], M[k+1][j], dataset[2*k+1])\n",
        "        b = evalt(M[i][k], m[k+1][j], dataset[2*k+1])\n",
        "        c = evalt(m[i][k], M[k+1][j], dataset[2*k+1])\n",
        "        d = evalt(m[i][k], m[k+1][j], dataset[2*k+1])\n",
        "        n_min = min(n_min, a, b, c, d)\n",
        "        n_max = max(n_max, a, b, c, d)\n",
        "\n",
        "\n",
        "def get_maximum_value(dataset):\n",
        "    # write your code here\n",
        "    n = (len(dataset) + 1) // 2\n",
        "    M = [[0 for x in range(n)] for y in range(n)]\n",
        "    for i in range(n):\n",
        "        M[i][i] = int(dataset[2*i])\n",
        "\n",
        "    m = [[0 for x in range(n)] for y in range(n)]\n",
        "    for i in range(n):\n",
        "        m[i][i] = int(dataset[2*i])\n",
        "\n",
        "    for s in range(1, n):\n",
        "        for i in range(n - s):\n",
        "            j = i + s\n",
        "            M[i][j], m[i][j] = MinAndMax(i, j, M, m, dataset)\n",
        "\n",
        "    return M[0][-1]\n",
        "\n",
        "\n",
        "if __name__ == \"__main__\":\n",
        "    print(get_maximum_value(input()))"
      ],
      "execution_count": null,
      "outputs": []
    },
    {
      "cell_type": "markdown",
      "metadata": {
        "id": "s-KmKEzhShmt"
      },
      "source": [
        "#Santiago Mondragón Gómez\n",
        "\n",
        "![](https://imgur.com/vkhl4wW.png)"
      ]
    }
  ]
}