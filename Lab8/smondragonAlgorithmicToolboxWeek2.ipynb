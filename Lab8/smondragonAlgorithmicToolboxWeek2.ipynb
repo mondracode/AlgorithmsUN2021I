{
  "nbformat": 4,
  "nbformat_minor": 0,
  "metadata": {
    "colab": {
      "name": "smondragonAlgorithmicToolboxWeek2.ipynb",
      "provenance": []
    },
    "kernelspec": {
      "name": "python3",
      "display_name": "Python 3"
    },
    "language_info": {
      "name": "python"
    }
  },
  "cells": [
    {
      "cell_type": "markdown",
      "metadata": {
        "id": "WXvm-FhUqZyM"
      },
      "source": [
        "\n",
        "# Algorithmic Toolbox - Week 2 - Algorithmic Warm Up"
      ]
    },
    {
      "cell_type": "markdown",
      "metadata": {
        "id": "mQgd0KU5qd1t"
      },
      "source": [
        "###1. Fibonacci Number"
      ]
    },
    {
      "cell_type": "code",
      "metadata": {
        "colab": {
          "base_uri": "https://localhost:8080/"
        },
        "id": "Otn_xMu8qXYJ",
        "outputId": "8199feaf-33c5-4212-ed00-8ea0712e7616"
      },
      "source": [
        "# Uses python3\n",
        "def calc_fib(n):\n",
        "    if (n <= 1):\n",
        "        return n\n",
        "\n",
        "    fib = []\n",
        "    fib.append(0)\n",
        "    fib.append(1)\n",
        "    for i in range(2, n+1):\n",
        "        fib.append(fib[-1] + fib[-2])\n",
        "\n",
        "    return fib[-1]\n",
        "\n",
        "\n",
        "n = int(input())\n",
        "print(calc_fib(n))"
      ],
      "execution_count": 1,
      "outputs": [
        {
          "output_type": "stream",
          "text": [
            "34\n",
            "5702887\n"
          ],
          "name": "stdout"
        }
      ]
    },
    {
      "cell_type": "markdown",
      "metadata": {
        "id": "5MejeEWLqtme"
      },
      "source": [
        "###2. Last Digit of a Large Fibonacci Number"
      ]
    },
    {
      "cell_type": "code",
      "metadata": {
        "colab": {
          "base_uri": "https://localhost:8080/"
        },
        "id": "-yTSTyX6rSmW",
        "outputId": "451acc10-ea77-44cf-bda4-5d0edbb8021b"
      },
      "source": [
        "import sys\n",
        "\n",
        "\n",
        "def calc_fib_digit(n):\n",
        "    n = n % 60\n",
        "    if (n <= 1):\n",
        "        return n\n",
        "\n",
        "    fib = []\n",
        "    fib.append(0)\n",
        "    fib.append(1)\n",
        "    for i in range(2, n+1):\n",
        "        fib.append(fib[-1] + fib[-2])\n",
        "        del fib[0:-2]\n",
        "    return fib[-1] % 10\n",
        "\n",
        "\n",
        "if __name__ == '__main__':\n",
        "    n = int(input())\n",
        "    print(calc_fib_digit(n))"
      ],
      "execution_count": 2,
      "outputs": [
        {
          "output_type": "stream",
          "text": [
            "234\n",
            "2\n"
          ],
          "name": "stdout"
        }
      ]
    },
    {
      "cell_type": "markdown",
      "metadata": {
        "id": "aRbux2Q5qyeG"
      },
      "source": [
        "###3. Greatest Common Divisor"
      ]
    },
    {
      "cell_type": "code",
      "metadata": {
        "colab": {
          "base_uri": "https://localhost:8080/"
        },
        "id": "NrugbrD2rWb-",
        "outputId": "be2d4aeb-d0d2-468c-8431-63be1828eb3a"
      },
      "source": [
        "import sys\n",
        "import math\n",
        "\n",
        "\n",
        "def gcd_fast(a, n):\n",
        "    quo = math.floor(a/n)\n",
        "    rem = a - (quo * n)\n",
        "\n",
        "    if(rem == 0):\n",
        "        return n\n",
        "    else:\n",
        "        return gcd_fast(n, rem)\n",
        "\n",
        "\n",
        "if __name__ == \"__main__\":\n",
        "    a, b = map(int, input().split())\n",
        "    print(gcd_fast(a, b))"
      ],
      "execution_count": 7,
      "outputs": [
        {
          "output_type": "stream",
          "text": [
            "23426 3242\n",
            "2\n"
          ],
          "name": "stdout"
        }
      ]
    },
    {
      "cell_type": "markdown",
      "metadata": {
        "id": "DqnMLLOTq2gN"
      },
      "source": [
        "###4. Least Common Multiple"
      ]
    },
    {
      "cell_type": "code",
      "metadata": {
        "colab": {
          "base_uri": "https://localhost:8080/"
        },
        "id": "zXCEBi70rZ4G",
        "outputId": "bae74a2c-5d19-425f-e580-3f78a3afc30e"
      },
      "source": [
        "import sys\n",
        "import math\n",
        "\n",
        "\n",
        "def gcd_fast(a, n):\n",
        "    quo = math.floor(a/n)\n",
        "    rem = a - (quo * n)\n",
        "\n",
        "    if(rem == 0):\n",
        "        return n\n",
        "    else:\n",
        "        return gcd_fast(n, rem)\n",
        "\n",
        "\n",
        "def lcm_fast(a, b):\n",
        "    return (a * b)//gcd_fast(a, b)\n",
        "\n",
        "\n",
        "def lcm_naive(a, b):\n",
        "    for l in range(1, a*b + 1):\n",
        "        if l % a == 0 and l % b == 0:\n",
        "            return l\n",
        "\n",
        "    return a*b\n",
        "\n",
        "\n",
        "if __name__ == '__main__':\n",
        "    a, b = map(int, input().split())\n",
        "    print(lcm_fast(a, b))"
      ],
      "execution_count": 8,
      "outputs": [
        {
          "output_type": "stream",
          "text": [
            "34 453\n",
            "15402\n"
          ],
          "name": "stdout"
        }
      ]
    },
    {
      "cell_type": "markdown",
      "metadata": {
        "id": "QlMcWYrfq5cZ"
      },
      "source": [
        "###5. Fibonacci Number Again"
      ]
    },
    {
      "cell_type": "code",
      "metadata": {
        "colab": {
          "base_uri": "https://localhost:8080/"
        },
        "id": "AoEPhVdYrf53",
        "outputId": "13391ca5-74b9-4918-bed8-b1d0091e4acb"
      },
      "source": [
        "import sys\n",
        "\n",
        "\n",
        "def get_pisano_period(m):\n",
        "    previous = 0\n",
        "    current = 1\n",
        "    for i in range(0, m * m):\n",
        "        previous, current = current, (previous + current) % m\n",
        "\n",
        "        if (previous == 0 and current == 1):\n",
        "            return i + 1\n",
        "\n",
        "\n",
        "def get_fibonacci_huge_fast(n, m):\n",
        "    n = n % get_pisano_period(m)\n",
        "    if (n <= 1):\n",
        "        return n\n",
        "\n",
        "    fib = []\n",
        "    fib.append(0)\n",
        "    fib.append(1)\n",
        "    for i in range(2, n+1):\n",
        "        fib.append(fib[-1] + fib[-2])\n",
        "        del fib[0:-2]\n",
        "    return fib[-1] % m\n",
        "\n",
        "\n",
        "if __name__ == '__main__':\n",
        "    n, m = map(int, input().split())\n",
        "    print(get_fibonacci_huge_fast(n, m))"
      ],
      "execution_count": 14,
      "outputs": [
        {
          "output_type": "stream",
          "text": [
            "312313 4855\n",
            "2218\n"
          ],
          "name": "stdout"
        }
      ]
    },
    {
      "cell_type": "markdown",
      "metadata": {
        "id": "ZsPN0tTbq7xW"
      },
      "source": [
        "###6. Last Digit of the Sum of Fibonacci Numbers"
      ]
    },
    {
      "cell_type": "code",
      "metadata": {
        "colab": {
          "base_uri": "https://localhost:8080/"
        },
        "id": "JYDughAArhN2",
        "outputId": "5c3bda9a-b4ce-4732-fd2c-aeed6dab1cd6"
      },
      "source": [
        "import sys\n",
        "\n",
        "\n",
        "def fibonacci_sum_fast(n):\n",
        "    n = n % 60\n",
        "    if (n <= 1):\n",
        "        return n\n",
        "\n",
        "    fib = []\n",
        "    fib.append(0)\n",
        "    fib.append(1)\n",
        "    sum = 1\n",
        "    for i in range(2, n+1):\n",
        "        fib.append(fib[-1] + fib[-2])\n",
        "        sum += fib[-1]\n",
        "        del fib[0:-2]\n",
        "    return sum % 10\n",
        "\n",
        "\n",
        "if __name__ == '__main__':\n",
        "    n = int(input())\n",
        "    print(fibonacci_sum_fast(n))"
      ],
      "execution_count": 16,
      "outputs": [
        {
          "output_type": "stream",
          "text": [
            "42442\n",
            "7\n"
          ],
          "name": "stdout"
        }
      ]
    },
    {
      "cell_type": "markdown",
      "metadata": {
        "id": "xDN1UAqyq-yd"
      },
      "source": [
        "###7. Last Digit of the Sum of Fibonacci Numbers Again"
      ]
    },
    {
      "cell_type": "code",
      "metadata": {
        "colab": {
          "base_uri": "https://localhost:8080/"
        },
        "id": "pE1iZ30jrjzu",
        "outputId": "6acafcec-30a0-4bfa-e85b-35f036e6c325"
      },
      "source": [
        "import sys\n",
        "\n",
        "\n",
        "def fibonacci_partial_sum_fast(from_, to):\n",
        "    if(to < from_):\n",
        "        return -1\n",
        "\n",
        "    fib = []\n",
        "    fib.append(0)\n",
        "    fib.append(1)\n",
        "    sum = 0\n",
        "    for i in range(2, 60):\n",
        "        fib.append(fib[-1] + fib[-2])\n",
        "\n",
        "    from_ = from_ % 60\n",
        "    to = to % 60\n",
        "\n",
        "    if(to < from_):\n",
        "        to += 60\n",
        "\n",
        "    for j in range(from_, to+1):\n",
        "        sum += fib[j % 60]\n",
        "\n",
        "    return sum % 10\n",
        "\n",
        "\n",
        "if __name__ == '__main__':\n",
        "    from_, to = map(int, input().split())\n",
        "    print(fibonacci_partial_sum_fast(from_, to))\n"
      ],
      "execution_count": 17,
      "outputs": [
        {
          "output_type": "stream",
          "text": [
            "2342 34535\n",
            "5\n"
          ],
          "name": "stdout"
        }
      ]
    },
    {
      "cell_type": "markdown",
      "metadata": {
        "id": "2EFg1T8mrCAd"
      },
      "source": [
        "###8. Last Digit of the Sum of Squares of Fibonacci Numbers"
      ]
    },
    {
      "cell_type": "code",
      "metadata": {
        "colab": {
          "base_uri": "https://localhost:8080/"
        },
        "id": "Fdx9J9jJrmb2",
        "outputId": "b3361733-f221-416d-b6bb-d51198505c68"
      },
      "source": [
        "from sys import stdin\n",
        "\n",
        "\n",
        "def fibonacci_sum_squares_fast(n):\n",
        "\n",
        "    fib = []\n",
        "    fib.append(0)\n",
        "    fib.append(1)\n",
        "    sum = 0\n",
        "    for i in range(2, 60):\n",
        "        fib.append(fib[-1] + fib[-2])\n",
        "\n",
        "    n = n % 60\n",
        "\n",
        "    for j in range(n+1):\n",
        "        sum += fib[j % 60]*fib[j % 60]\n",
        "\n",
        "    return sum % 10\n",
        "\n",
        "\n",
        "if __name__ == '__main__':\n",
        "    n = int(input())\n",
        "    print(fibonacci_sum_squares_fast(n))"
      ],
      "execution_count": 19,
      "outputs": [
        {
          "output_type": "stream",
          "text": [
            "3453453\n",
            "6\n"
          ],
          "name": "stdout"
        }
      ]
    },
    {
      "cell_type": "markdown",
      "metadata": {
        "id": "a1TuccZYsdkI"
      },
      "source": [
        "# Final grading\n",
        "\n",
        "![Grade](https://i.imgur.com/cuKlsPj.png)"
      ]
    }
  ]
}